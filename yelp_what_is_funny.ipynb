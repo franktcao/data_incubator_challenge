{
  "nbformat": 4,
  "nbformat_minor": 0,
  "metadata": {
    "colab": {
      "name": "yelp_what_is_funny.ipynb",
      "version": "0.3.2",
      "provenance": [],
      "collapsed_sections": [],
      "toc_visible": true,
      "include_colab_link": true
    },
    "language_info": {
      "codemirror_mode": {
        "name": "ipython",
        "version": 3
      },
      "file_extension": ".py",
      "mimetype": "text/x-python",
      "name": "python",
      "nbconvert_exporter": "python",
      "pygments_lexer": "ipython3",
      "version": "3.7.0"
    },
    "kernelspec": {
      "name": "python3",
      "display_name": "Python 3"
    },
    "accelerator": "GPU"
  },
  "cells": [
    {
      "cell_type": "markdown",
      "metadata": {
        "id": "view-in-github",
        "colab_type": "text"
      },
      "source": [
        "<a href=\"https://colab.research.google.com/github/franktcao/data_incubator_challenge/blob/master/yelp_what_is_funny.ipynb\" target=\"_parent\"><img src=\"https://colab.research.google.com/assets/colab-badge.svg\" alt=\"Open In Colab\"/></a>"
      ]
    },
    {
      "cell_type": "markdown",
      "metadata": {
        "id": "zcEPYhV05X-v",
        "colab_type": "text"
      },
      "source": [
        "# Sentimental Analysis with Yelp Open Dataset\n"
      ]
    },
    {
      "cell_type": "markdown",
      "metadata": {
        "id": "OoCp-9PpSLFc",
        "colab_type": "text"
      },
      "source": [
        "\n",
        "##Introduction\n",
        "\n",
        "Using [Yelp's open dataset](https://www.yelp.com/dataset) we want to get a handle on what makes a review funny. Intuitively, maybe it should be at an accessible 5th grade reading level to cast a wide net. Maybe it should be a useful or cool review. Should we expect lower stars or higher? \n",
        "\n",
        "We will classify the reviews as funny or unfunny using deep neural networks.\n",
        "\n",
        "We will try to see if some sentiment analysis can be done via **convolutional layers**.\n",
        "\n"
      ]
    },
    {
      "cell_type": "markdown",
      "metadata": {
        "id": "bzwQPQ6BTFeH",
        "colab_type": "text"
      },
      "source": [
        "\n",
        "# Starting"
      ]
    },
    {
      "cell_type": "markdown",
      "metadata": {
        "id": "-VzQ-uM3TIOj",
        "colab_type": "text"
      },
      "source": [
        "## Setting things up"
      ]
    },
    {
      "cell_type": "markdown",
      "metadata": {
        "id": "8diT4Q3xTgHQ",
        "colab_type": "text"
      },
      "source": [
        "### Mounting Google Drive"
      ]
    },
    {
      "cell_type": "markdown",
      "metadata": {
        "id": "w8JOOUCge6IO",
        "colab_type": "text"
      },
      "source": [
        "Now, the file is pretty big so I've previously uploaded it to my Google drive. Let's mount it:"
      ]
    },
    {
      "cell_type": "code",
      "metadata": {
        "id": "EruglkM0TJLg",
        "colab_type": "code",
        "outputId": "9811130d-9fde-4615-fa7c-38e8142861f8",
        "colab": {
          "base_uri": "https://localhost:8080/",
          "height": 122
        }
      },
      "source": [
        "from google.colab import drive\n",
        "drive.mount('/content/drive')"
      ],
      "execution_count": 0,
      "outputs": [
        {
          "output_type": "stream",
          "text": [
            "Go to this URL in a browser: https://accounts.google.com/o/oauth2/auth?client_id=947318989803-6bn6qk8qdgf4n4g3pfee6491hc0brc4i.apps.googleusercontent.com&redirect_uri=urn%3Aietf%3Awg%3Aoauth%3A2.0%3Aoob&scope=email%20https%3A%2F%2Fwww.googleapis.com%2Fauth%2Fdocs.test%20https%3A%2F%2Fwww.googleapis.com%2Fauth%2Fdrive%20https%3A%2F%2Fwww.googleapis.com%2Fauth%2Fdrive.photos.readonly%20https%3A%2F%2Fwww.googleapis.com%2Fauth%2Fpeopleapi.readonly&response_type=code\n",
            "\n",
            "Enter your authorization code:\n",
            "··········\n",
            "Mounted at /content/drive\n"
          ],
          "name": "stdout"
        }
      ]
    },
    {
      "cell_type": "markdown",
      "metadata": {
        "id": "MPVUo4bjTrJc",
        "colab_type": "text"
      },
      "source": [
        "### Importing Useful Modules"
      ]
    },
    {
      "cell_type": "code",
      "metadata": {
        "id": "0J3UJSbvSLFi",
        "colab_type": "code",
        "colab": {}
      },
      "source": [
        "import matplotlib.pyplot as plt\n",
        "import numpy as np\n",
        "import pandas as pd\n",
        "import keras\n",
        "\n",
        "\n",
        "# Needed for Mac OSX\n",
        "import os \n",
        "os.environ['KMP_DUPLICATE_LIB_OK'] = 'True'\n"
      ],
      "execution_count": 0,
      "outputs": []
    },
    {
      "cell_type": "markdown",
      "metadata": {
        "id": "T-4eNeiOT2GF",
        "colab_type": "text"
      },
      "source": [
        "### Loading In Data"
      ]
    },
    {
      "cell_type": "markdown",
      "metadata": {
        "id": "o6OeV1qPSLFm",
        "colab_type": "text"
      },
      "source": [
        "Use the h5py package to open our previously encoded numpy array. "
      ]
    },
    {
      "cell_type": "code",
      "metadata": {
        "id": "TSGhQT2gSLFn",
        "colab_type": "code",
        "colab": {}
      },
      "source": [
        "import h5py\n",
        "\n",
        "# datadir = 'data/partitioned/tokenized/encoded/'\n",
        "datadir = 'drive/My Drive/data/yelp_encoded/'\n",
        "datafile = datadir + 'encoded_review_array.h5'\n",
        "\n",
        "h5 = h5py.File(datafile,'r')\n",
        "# help(h5py.File)\n",
        "# h5.keys()\n",
        "\n",
        "data = h5['reviews']"
      ],
      "execution_count": 0,
      "outputs": []
    },
    {
      "cell_type": "markdown",
      "metadata": {
        "id": "DCn0SNixUKMG",
        "colab_type": "text"
      },
      "source": [
        "#### Examples"
      ]
    },
    {
      "cell_type": "markdown",
      "metadata": {
        "id": "2dEwrdPESLFu",
        "colab_type": "text"
      },
      "source": [
        "h5py only loads in the data needed to complete a given operation into memory. "
      ]
    },
    {
      "cell_type": "code",
      "metadata": {
        "id": "PoihGRDGSLFv",
        "colab_type": "code",
        "outputId": "2750de1f-0690-4ef8-acbc-a40fb14a6744",
        "colab": {
          "base_uri": "https://localhost:8080/",
          "height": 34
        }
      },
      "source": [
        "data.shape"
      ],
      "execution_count": 0,
      "outputs": [
        {
          "output_type": "execute_result",
          "data": {
            "text/plain": [
              "(6685900, 254)"
            ]
          },
          "metadata": {
            "tags": []
          },
          "execution_count": 10
        }
      ]
    },
    {
      "cell_type": "markdown",
      "metadata": {
        "id": "OpX2_VNzSLF0",
        "colab_type": "text"
      },
      "source": [
        "And looking at the first entry"
      ]
    },
    {
      "cell_type": "markdown",
      "metadata": {
        "id": "lwHeGW_LSLGA",
        "colab_type": "text"
      },
      "source": [
        "At preprocessing stage, the first four slots of the entry are dedicated to: \n",
        "\n",
        "0. the number of stars; \n",
        "1. the number of \"useful\" upvotes;\n",
        "2. the number of \"funny\" upvotes;\n",
        "3. the number of \"cool\" upvotes;\n",
        "\n",
        "respectively.\n",
        "\n",
        "The remaining 250 integers are the encoded review text. \n",
        "* If the review contains more than 250 words, it's truncated/dropped. \n",
        "* If it contains less that 250 words the unused slots are encoded with zeros. \n",
        "\n"
      ]
    },
    {
      "cell_type": "code",
      "metadata": {
        "id": "yCKAvOzcSLF1",
        "colab_type": "code",
        "outputId": "6275a211-e13e-4499-9f3a-228f0200189d",
        "colab": {
          "base_uri": "https://localhost:8080/",
          "height": 510
        }
      },
      "source": [
        "data[0]"
      ],
      "execution_count": 0,
      "outputs": [
        {
          "output_type": "execute_result",
          "data": {
            "text/plain": [
              "array([    1,     6,     1,     0,   805,   548,     5,   528,    28,\n",
              "          65,   103,    55,   238,  8080,   264,    11,  4895,   537,\n",
              "          62,    55, 10647,   182,  9013,   737,   753,  9013,    56,\n",
              "          11,  3754,  2963,   276,     2,   977,  1865,    14,    24,\n",
              "        1767,     0,     0,     0,     0,     0,     0,     0,     0,\n",
              "           0,     0,     0,     0,     0,     0,     0,     0,     0,\n",
              "           0,     0,     0,     0,     0,     0,     0,     0,     0,\n",
              "           0,     0,     0,     0,     0,     0,     0,     0,     0,\n",
              "           0,     0,     0,     0,     0,     0,     0,     0,     0,\n",
              "           0,     0,     0,     0,     0,     0,     0,     0,     0,\n",
              "           0,     0,     0,     0,     0,     0,     0,     0,     0,\n",
              "           0,     0,     0,     0,     0,     0,     0,     0,     0,\n",
              "           0,     0,     0,     0,     0,     0,     0,     0,     0,\n",
              "           0,     0,     0,     0,     0,     0,     0,     0,     0,\n",
              "           0,     0,     0,     0,     0,     0,     0,     0,     0,\n",
              "           0,     0,     0,     0,     0,     0,     0,     0,     0,\n",
              "           0,     0,     0,     0,     0,     0,     0,     0,     0,\n",
              "           0,     0,     0,     0,     0,     0,     0,     0,     0,\n",
              "           0,     0,     0,     0,     0,     0,     0,     0,     0,\n",
              "           0,     0,     0,     0,     0,     0,     0,     0,     0,\n",
              "           0,     0,     0,     0,     0,     0,     0,     0,     0,\n",
              "           0,     0,     0,     0,     0,     0,     0,     0,     0,\n",
              "           0,     0,     0,     0,     0,     0,     0,     0,     0,\n",
              "           0,     0,     0,     0,     0,     0,     0,     0,     0,\n",
              "           0,     0,     0,     0,     0,     0,     0,     0,     0,\n",
              "           0,     0,     0,     0,     0,     0,     0,     0,     0,\n",
              "           0,     0,     0,     0,     0,     0,     0,     0,     0,\n",
              "           0,     0,     0,     0,     0,     0,     0,     0,     0,\n",
              "           0,     0], dtype=int16)"
            ]
          },
          "metadata": {
            "tags": []
          },
          "execution_count": 11
        }
      ]
    },
    {
      "cell_type": "markdown",
      "metadata": {
        "id": "OPwGZuBAUirY",
        "colab_type": "text"
      },
      "source": [
        "##  Looking at the Decoded Data"
      ]
    },
    {
      "cell_type": "markdown",
      "metadata": {
        "id": "5E5qP5kGVhbB",
        "colab_type": "text"
      },
      "source": [
        "### Blackbox Decoding\n",
        "\n",
        "To decode the encoded array, we need to use the class `Vocabulary` (from C. Bernet) which encoded the vocabulary. A vocabulary was built from the 5 GB review data and then used to encode it."
      ]
    },
    {
      "cell_type": "code",
      "metadata": {
        "id": "wOTWsGs90sCY",
        "colab_type": "code",
        "colab": {}
      },
      "source": [
        "# # View Google's directory structure\n",
        "# import pprint\n",
        "# print('Module paths:')\n",
        "# pprint.pprint(sys.path)\n",
        "# print('\\nCurrent working directory:',os.getcwd())\n",
        "\n",
        "# from os import listdir\n",
        "# from os.path import isfile, join\n",
        "# files = [f for f in listdir('.') if isfile(join('.',f))]\n",
        "# print(files)"
      ],
      "execution_count": 0,
      "outputs": []
    },
    {
      "cell_type": "code",
      "metadata": {
        "id": "79ReNavdWksl",
        "colab_type": "code",
        "colab": {}
      },
      "source": [
        "import pickle \n",
        "import sys\n",
        "\n",
        "# Load in the Vocabulary class\n",
        "sys.path.append('/content/drive/My Drive/my_python_classes/yelp')\n",
        "import vocabulary\n",
        "\n",
        "\n",
        "# Load in the constructed Yelp vocabulary \n",
        "with open(datadir+'index.pck', 'rb') as pckf: \n",
        "    vocab = pickle.load(pckf)\n",
        "\n",
        "# Method to decode review\n",
        "def decode_review(encoded_review):\n",
        "    encoded_review = encoded_review[encoded_review != 0] # Drop all padding\n",
        "    return ' '.join( vocab.decode(encoded_review) )"
      ],
      "execution_count": 0,
      "outputs": []
    },
    {
      "cell_type": "markdown",
      "metadata": {
        "id": "Dk4EqPVWSLGE",
        "colab_type": "text"
      },
      "source": [
        "### Example:"
      ]
    },
    {
      "cell_type": "code",
      "metadata": {
        "id": "LiVoEcv1SP72",
        "colab_type": "code",
        "outputId": "3a33b0ca-0706-4db4-e847-3b61f892563b",
        "colab": {
          "base_uri": "https://localhost:8080/",
          "height": 85
        }
      },
      "source": [
        "# Again, the encoded review is after the first 4 slots (for the scores)\n",
        "first_review = data[0,4:]\n",
        "# Drop padding\n",
        "first_review = first_review[ first_review != 0 ]\n",
        "print('Encoded review:\\n\\t', first_review[:14], '...')\n",
        "decoded = decode_review(first_review)\n",
        "print('Decoded review:\\n\\t', ' '.join( (decoded.split())[:14] ), '...' ) "
      ],
      "execution_count": 0,
      "outputs": [
        {
          "output_type": "stream",
          "text": [
            "Encoded review:\n",
            "\t [ 805  548    5  528   28   65  103   55  238 8080  264   11 4895  537] ...\n",
            "Decoded review:\n",
            "\t total bill this horrible service ? over $ these crooks actually had nerve charge ...\n"
          ],
          "name": "stdout"
        }
      ]
    },
    {
      "cell_type": "markdown",
      "metadata": {
        "id": "cLSaun4gdKFr",
        "colab_type": "text"
      },
      "source": [
        "The `?` is not in our vocabulary (\"stop words\" are left out to like \"the, he, she, it, ... etc\" since they don't carry much information )"
      ]
    },
    {
      "cell_type": "markdown",
      "metadata": {
        "id": "PUDA73IUSLGX",
        "colab_type": "text"
      },
      "source": [
        "# Extracting Data\n",
        "Let's extract the information needed to train our neural networks.  \n",
        "\n",
        "###Features:"
      ]
    },
    {
      "cell_type": "code",
      "metadata": {
        "id": "lNB8VuGzSLGq",
        "colab_type": "code",
        "outputId": "f845c495-f2a8-4218-bdf3-bdc413b5cb9a",
        "colab": {
          "base_uri": "https://localhost:8080/",
          "height": 34
        }
      },
      "source": [
        "# Attributes\n",
        "stars = data[:,0]\n",
        "useful = data[:,1]\n",
        "funny = data[:,2]\n",
        "cool = data[:,3]\n",
        "\n",
        "# All reviews\n",
        "x = data[:, 4:]\n",
        "\n",
        "print(stars.shape, useful.shape, funny.shape, cool.shape, x.shape)"
      ],
      "execution_count": 0,
      "outputs": [
        {
          "output_type": "stream",
          "text": [
            "(6685900,) (6685900,) (6685900,) (6685900,) (6685900, 250)\n"
          ],
          "name": "stdout"
        }
      ]
    },
    {
      "cell_type": "markdown",
      "metadata": {
        "id": "fWpomgSMgcTE",
        "colab_type": "text"
      },
      "source": [
        "### Extracting Readability"
      ]
    },
    {
      "cell_type": "code",
      "metadata": {
        "id": "0Rpl6X7NjNhD",
        "colab_type": "code",
        "colab": {}
      },
      "source": [
        "stars = stars[ funny > 0 ]\n",
        "useful = useful[ funny > 0 ]\n",
        "cool = cool[ funny > 0 ]\n",
        "x = x[ funny > 0 ]\n",
        "\n",
        "funny = funny[ funny > 0 ]\n"
      ],
      "execution_count": 0,
      "outputs": []
    },
    {
      "cell_type": "markdown",
      "metadata": {
        "id": "dr7jxpBghehK",
        "colab_type": "text"
      },
      "source": [
        "Let's use the textatistic package to extract the reading level. First we install it:"
      ]
    },
    {
      "cell_type": "code",
      "metadata": {
        "id": "HF2p6EaFPeuq",
        "colab_type": "code",
        "outputId": "76c3b258-68d7-431d-e21e-e5a486e2938b",
        "colab": {
          "base_uri": "https://localhost:8080/",
          "height": 105
        }
      },
      "source": [
        "!pip install textatistic"
      ],
      "execution_count": 0,
      "outputs": [
        {
          "output_type": "stream",
          "text": [
            "Requirement already satisfied: textatistic in /usr/local/lib/python3.6/dist-packages (0.0.1)\n",
            "Requirement already satisfied: pyhyphen>=2.0.5 in /usr/local/lib/python3.6/dist-packages (from textatistic) (3.0.1)\n",
            "Requirement already satisfied: appdirs in /usr/local/lib/python3.6/dist-packages (from pyhyphen>=2.0.5->textatistic) (1.4.3)\n",
            "Requirement already satisfied: six in /usr/local/lib/python3.6/dist-packages (from pyhyphen>=2.0.5->textatistic) (1.12.0)\n"
          ],
          "name": "stdout"
        }
      ]
    },
    {
      "cell_type": "markdown",
      "metadata": {
        "id": "8Wkdze02ieTX",
        "colab_type": "text"
      },
      "source": [
        "Write method to make a new column for the reading level of the review"
      ]
    },
    {
      "cell_type": "code",
      "metadata": {
        "id": "Y13LG_TSN5T9",
        "colab_type": "code",
        "outputId": "34a53f43-e412-4142-cfc1-78f4326053de",
        "colab": {
          "base_uri": "https://localhost:8080/",
          "height": 34
        }
      },
      "source": [
        "def get_readability_score_from_review(enc_review):\n",
        "  review = decode_review(enc_review)\n",
        "  return get_readability_score(review)\n",
        "\n",
        "def get_readability_score(review):\n",
        "  from textatistic import Textatistic\n",
        "  \n",
        "  # This helps define the end of a sentence, needed for flesch score\n",
        "  review = review + '...' \n",
        "  #   print('\\t',review,'\\n')\n",
        "  # Compute the readability scores \n",
        "  scores = Textatistic(review).scores\n",
        "  \n",
        "  # Flesch score gives a higher score for more readable content\n",
        "  #   return scores['flesch_score']\n",
        "  # Gunning-Fog score gives the equivalent grade reading level\n",
        "  return scores['gunningfog_score']\n",
        "\n",
        "\n",
        "print(get_readability_score_from_review(x[2]))"
      ],
      "execution_count": 0,
      "outputs": [
        {
          "output_type": "stream",
          "text": [
            "7.333333333333333\n"
          ],
          "name": "stdout"
        }
      ]
    },
    {
      "cell_type": "markdown",
      "metadata": {
        "id": "QS-Dlek_p_Tu",
        "colab_type": "text"
      },
      "source": [
        "Now extract the readability from the reviews"
      ]
    },
    {
      "cell_type": "code",
      "metadata": {
        "id": "GFtvibV6M47n",
        "colab_type": "code",
        "outputId": "621cb3b2-f91f-4495-8ab1-54ba3b0b8f67",
        "colab": {
          "base_uri": "https://localhost:8080/",
          "height": 344
        }
      },
      "source": [
        "test = np.array(list(map(get_readability_score_from_review, x)))\n",
        "# df['text'].apply(get_readability_score)"
      ],
      "execution_count": 0,
      "outputs": [
        {
          "output_type": "error",
          "ename": "ZeroDivisionError",
          "evalue": "ignored",
          "traceback": [
            "\u001b[0;31m---------------------------------------------------------------------------\u001b[0m",
            "\u001b[0;31mZeroDivisionError\u001b[0m                         Traceback (most recent call last)",
            "\u001b[0;32m<ipython-input-59-4f482eb01810>\u001b[0m in \u001b[0;36m<module>\u001b[0;34m()\u001b[0m\n\u001b[0;32m----> 1\u001b[0;31m \u001b[0mtest\u001b[0m \u001b[0;34m=\u001b[0m \u001b[0mnp\u001b[0m\u001b[0;34m.\u001b[0m\u001b[0marray\u001b[0m\u001b[0;34m(\u001b[0m\u001b[0mlist\u001b[0m\u001b[0;34m(\u001b[0m\u001b[0mmap\u001b[0m\u001b[0;34m(\u001b[0m\u001b[0mget_readability_score_from_review\u001b[0m\u001b[0;34m,\u001b[0m \u001b[0mx\u001b[0m\u001b[0;34m)\u001b[0m\u001b[0;34m)\u001b[0m\u001b[0;34m)\u001b[0m\u001b[0;34m\u001b[0m\u001b[0;34m\u001b[0m\u001b[0m\n\u001b[0m\u001b[1;32m      2\u001b[0m \u001b[0;31m# df['text'].apply(get_readability_score)\u001b[0m\u001b[0;34m\u001b[0m\u001b[0;34m\u001b[0m\u001b[0;34m\u001b[0m\u001b[0m\n",
            "\u001b[0;32m<ipython-input-58-dd774c6cbffc>\u001b[0m in \u001b[0;36mget_readability_score_from_review\u001b[0;34m(enc_review)\u001b[0m\n\u001b[1;32m      1\u001b[0m \u001b[0;32mdef\u001b[0m \u001b[0mget_readability_score_from_review\u001b[0m\u001b[0;34m(\u001b[0m\u001b[0menc_review\u001b[0m\u001b[0;34m)\u001b[0m\u001b[0;34m:\u001b[0m\u001b[0;34m\u001b[0m\u001b[0;34m\u001b[0m\u001b[0m\n\u001b[1;32m      2\u001b[0m   \u001b[0mreview\u001b[0m \u001b[0;34m=\u001b[0m \u001b[0mdecode_review\u001b[0m\u001b[0;34m(\u001b[0m\u001b[0menc_review\u001b[0m\u001b[0;34m)\u001b[0m\u001b[0;34m\u001b[0m\u001b[0;34m\u001b[0m\u001b[0m\n\u001b[0;32m----> 3\u001b[0;31m   \u001b[0;32mreturn\u001b[0m \u001b[0mget_readability_score\u001b[0m\u001b[0;34m(\u001b[0m\u001b[0mreview\u001b[0m\u001b[0;34m)\u001b[0m\u001b[0;34m\u001b[0m\u001b[0;34m\u001b[0m\u001b[0m\n\u001b[0m\u001b[1;32m      4\u001b[0m \u001b[0;34m\u001b[0m\u001b[0m\n\u001b[1;32m      5\u001b[0m \u001b[0;32mdef\u001b[0m \u001b[0mget_readability_score\u001b[0m\u001b[0;34m(\u001b[0m\u001b[0mreview\u001b[0m\u001b[0;34m)\u001b[0m\u001b[0;34m:\u001b[0m\u001b[0;34m\u001b[0m\u001b[0;34m\u001b[0m\u001b[0m\n",
            "\u001b[0;32m<ipython-input-58-dd774c6cbffc>\u001b[0m in \u001b[0;36mget_readability_score\u001b[0;34m(review)\u001b[0m\n\u001b[1;32m     10\u001b[0m   \u001b[0;31m#   print('\\t',review,'\\n')\u001b[0m\u001b[0;34m\u001b[0m\u001b[0;34m\u001b[0m\u001b[0;34m\u001b[0m\u001b[0m\n\u001b[1;32m     11\u001b[0m   \u001b[0;31m# Compute the readability scores\u001b[0m\u001b[0;34m\u001b[0m\u001b[0;34m\u001b[0m\u001b[0;34m\u001b[0m\u001b[0m\n\u001b[0;32m---> 12\u001b[0;31m   \u001b[0mscores\u001b[0m \u001b[0;34m=\u001b[0m \u001b[0mTextatistic\u001b[0m\u001b[0;34m(\u001b[0m\u001b[0mreview\u001b[0m\u001b[0;34m)\u001b[0m\u001b[0;34m.\u001b[0m\u001b[0mscores\u001b[0m\u001b[0;34m\u001b[0m\u001b[0;34m\u001b[0m\u001b[0m\n\u001b[0m\u001b[1;32m     13\u001b[0m \u001b[0;34m\u001b[0m\u001b[0m\n\u001b[1;32m     14\u001b[0m   \u001b[0;31m# Flesch score gives a higher score for more readable content\u001b[0m\u001b[0;34m\u001b[0m\u001b[0;34m\u001b[0m\u001b[0;34m\u001b[0m\u001b[0m\n",
            "\u001b[0;32m/usr/local/lib/python3.6/dist-packages/textatistic/textatistic.py\u001b[0m in \u001b[0;36m__init__\u001b[0;34m(self, text, abbr, hyphen, easy)\u001b[0m\n\u001b[1;32m     63\u001b[0m         }\n\u001b[1;32m     64\u001b[0m \u001b[0;34m\u001b[0m\u001b[0m\n\u001b[0;32m---> 65\u001b[0;31m         \u001b[0mself\u001b[0m\u001b[0;34m.\u001b[0m\u001b[0mflesch_score\u001b[0m \u001b[0;34m=\u001b[0m \u001b[0mflesch_score\u001b[0m\u001b[0;34m(\u001b[0m\u001b[0mvars\u001b[0m\u001b[0;34m=\u001b[0m\u001b[0mself\u001b[0m\u001b[0;34m.\u001b[0m\u001b[0mcounts\u001b[0m\u001b[0;34m)\u001b[0m\u001b[0;34m\u001b[0m\u001b[0;34m\u001b[0m\u001b[0m\n\u001b[0m\u001b[1;32m     66\u001b[0m         \u001b[0mself\u001b[0m\u001b[0;34m.\u001b[0m\u001b[0mfleschkincaid_score\u001b[0m \u001b[0;34m=\u001b[0m \u001b[0mfleschkincaid_score\u001b[0m\u001b[0;34m(\u001b[0m\u001b[0mvars\u001b[0m\u001b[0;34m=\u001b[0m\u001b[0mself\u001b[0m\u001b[0;34m.\u001b[0m\u001b[0mcounts\u001b[0m\u001b[0;34m)\u001b[0m\u001b[0;34m\u001b[0m\u001b[0;34m\u001b[0m\u001b[0m\n\u001b[1;32m     67\u001b[0m         \u001b[0mself\u001b[0m\u001b[0;34m.\u001b[0m\u001b[0mgunningfog_score\u001b[0m \u001b[0;34m=\u001b[0m \u001b[0mgunningfog_score\u001b[0m\u001b[0;34m(\u001b[0m\u001b[0mvars\u001b[0m\u001b[0;34m=\u001b[0m\u001b[0mself\u001b[0m\u001b[0;34m.\u001b[0m\u001b[0mcounts\u001b[0m\u001b[0;34m)\u001b[0m\u001b[0;34m\u001b[0m\u001b[0;34m\u001b[0m\u001b[0m\n",
            "\u001b[0;32m/usr/local/lib/python3.6/dist-packages/textatistic/textatistic.py\u001b[0m in \u001b[0;36mflesch_score\u001b[0;34m(text, abbr, hyphen, vars)\u001b[0m\n\u001b[1;32m    213\u001b[0m         \u001b[0mvars\u001b[0m\u001b[0;34m[\u001b[0m\u001b[0;34m'word_count'\u001b[0m\u001b[0;34m]\u001b[0m \u001b[0;34m=\u001b[0m \u001b[0mword_count\u001b[0m\u001b[0;34m(\u001b[0m\u001b[0mtext\u001b[0m\u001b[0;34m,\u001b[0m \u001b[0mabbr\u001b[0m\u001b[0;34m,\u001b[0m \u001b[0;32mTrue\u001b[0m\u001b[0;34m)\u001b[0m\u001b[0;34m\u001b[0m\u001b[0;34m\u001b[0m\u001b[0m\n\u001b[1;32m    214\u001b[0m         \u001b[0mvars\u001b[0m\u001b[0;34m[\u001b[0m\u001b[0;34m'sybl_count'\u001b[0m\u001b[0;34m]\u001b[0m \u001b[0;34m=\u001b[0m \u001b[0msybl_counts\u001b[0m\u001b[0;34m(\u001b[0m\u001b[0mtext\u001b[0m\u001b[0;34m,\u001b[0m \u001b[0mabbr\u001b[0m\u001b[0;34m,\u001b[0m \u001b[0mhyphen\u001b[0m\u001b[0;34m,\u001b[0m \u001b[0;32mTrue\u001b[0m\u001b[0;34m)\u001b[0m\u001b[0;34m[\u001b[0m\u001b[0;34m'sybl_count'\u001b[0m\u001b[0;34m]\u001b[0m\u001b[0;34m\u001b[0m\u001b[0;34m\u001b[0m\u001b[0m\n\u001b[0;32m--> 215\u001b[0;31m     \u001b[0;32mreturn\u001b[0m \u001b[0;36m206.835\u001b[0m \u001b[0;34m-\u001b[0m \u001b[0;36m1.015\u001b[0m \u001b[0;34m*\u001b[0m \u001b[0;34m(\u001b[0m\u001b[0mvars\u001b[0m\u001b[0;34m[\u001b[0m\u001b[0;34m'word_count'\u001b[0m\u001b[0;34m]\u001b[0m \u001b[0;34m/\u001b[0m \u001b[0mvars\u001b[0m\u001b[0;34m[\u001b[0m\u001b[0;34m'sent_count'\u001b[0m\u001b[0;34m]\u001b[0m\u001b[0;34m)\u001b[0m \u001b[0;34m-\u001b[0m \u001b[0;36m84.6\u001b[0m \u001b[0;34m*\u001b[0m \u001b[0;34m(\u001b[0m\u001b[0mvars\u001b[0m\u001b[0;34m[\u001b[0m\u001b[0;34m'sybl_count'\u001b[0m\u001b[0;34m]\u001b[0m \u001b[0;34m/\u001b[0m \u001b[0mvars\u001b[0m\u001b[0;34m[\u001b[0m\u001b[0;34m'word_count'\u001b[0m\u001b[0;34m]\u001b[0m\u001b[0;34m)\u001b[0m\u001b[0;34m\u001b[0m\u001b[0;34m\u001b[0m\u001b[0m\n\u001b[0m\u001b[1;32m    216\u001b[0m \u001b[0;34m\u001b[0m\u001b[0m\n\u001b[1;32m    217\u001b[0m \u001b[0;34m\u001b[0m\u001b[0m\n",
            "\u001b[0;31mZeroDivisionError\u001b[0m: division by zero"
          ]
        }
      ]
    },
    {
      "cell_type": "markdown",
      "metadata": {
        "id": "oo4DbLlYqGh4",
        "colab_type": "text"
      },
      "source": [
        "Looks like there is an issue with the Textatistic module in extracting the Flesch score where there is a divide by zero! It looks like the sentence count is reading zero for one of these reviews... We will have to revisit this..."
      ]
    },
    {
      "cell_type": "markdown",
      "metadata": {
        "id": "EwfHdNxhSLG6",
        "colab_type": "text"
      },
      "source": [
        "### Labels:\n",
        "We want to know what makes a Yelp review funny, so we need to define what constitutes a funny review. So let's label what we decide is funny\n",
        "\n"
      ]
    },
    {
      "cell_type": "code",
      "metadata": {
        "id": "F5554PJMSLG8",
        "colab_type": "code",
        "colab": {}
      },
      "source": [
        "# Since the majority of the reviews are not funny, \n",
        "# we will initialize the labels as not-funny (0)\n",
        "y = np.zeros_like(funny)\n",
        "\n",
        "# The funny reviews should have a least 1 funny upvote\n",
        "y[funny>5] = 1\n",
        "\n",
        "# y.sum()/y.shape"
      ],
      "execution_count": 0,
      "outputs": []
    },
    {
      "cell_type": "markdown",
      "metadata": {
        "id": "RbF-PvAOXYDj",
        "colab_type": "text"
      },
      "source": [
        "First, let's look at how the review frequency distribution of 'funny' upvotes of the first 1000 entries: "
      ]
    },
    {
      "cell_type": "code",
      "metadata": {
        "id": "gnKQ1PBjhWcn",
        "colab_type": "code",
        "outputId": "eb3f7fef-f52e-4442-a514-11b992a0f65b",
        "colab": {
          "base_uri": "https://localhost:8080/",
          "height": 323
        }
      },
      "source": [
        "plt.hist(funny[:1000])"
      ],
      "execution_count": 0,
      "outputs": [
        {
          "output_type": "execute_result",
          "data": {
            "text/plain": [
              "(array([938.,  39.,  13.,   6.,   1.,   1.,   0.,   0.,   1.,   1.]),\n",
              " array([ 1. ,  5.1,  9.2, 13.3, 17.4, 21.5, 25.6, 29.7, 33.8, 37.9, 42. ]),\n",
              " <a list of 10 Patch objects>)"
            ]
          },
          "metadata": {
            "tags": []
          },
          "execution_count": 91
        },
        {
          "output_type": "display_data",
          "data": {
            "image/png": "[encoded data removed]",
            "text/plain": [
              "<Figure size 432x288 with 1 Axes>"
            ]
          },
          "metadata": {
            "tags": []
          }
        }
      ]
    },
    {
      "cell_type": "code",
      "metadata": {
        "id": "gt9t1wUT2ftQ",
        "colab_type": "code",
        "colab": {}
      },
      "source": [
        "reviews = data[:,4:]\n",
        "word_counts = np.count_nonzero(reviews, axis=1)\n",
        "df = pd.DataFrame({'useful':useful, 'wc':word_counts, 'stars':stars, 'funny':funny, 'cool':cool})\n",
        "df"
      ],
      "execution_count": 0,
      "outputs": []
    },
    {
      "cell_type": "markdown",
      "metadata": {
        "id": "wHu_gQrnSLG7",
        "colab_type": "text"
      },
      "source": [
        "Since there are so many reviews without the 'funny' attribute, a good first step might be labeling reviews with at least 1 'funny' attribute as funny."
      ]
    },
    {
      "cell_type": "markdown",
      "metadata": {
        "id": "_5Bj5UZ8guOd",
        "colab_type": "text"
      },
      "source": [
        "Let's define a few quick methods to read out an entry that we're interested in:"
      ]
    },
    {
      "cell_type": "code",
      "metadata": {
        "id": "dZ-knpg7SLGz",
        "colab_type": "code",
        "colab": {}
      },
      "source": [
        "def print_entry(ientry):\n",
        "    print()\n",
        "    print('\\tReview number:','{:,}'.format(ientry))\n",
        "    print('\\tStars:', stars[ientry])\n",
        "    print('\\tFunny votes:', funny[ientry])\n",
        "    print('\\tUseful votes:', useful[ientry])\n",
        "    print('\\tCool votes:', cool[ientry])\n",
        "    print('\\t\\t',decode_review(get_entry_review(ientry)))\n",
        "    print()\n",
        "          \n",
        "def get_entry_review(ientry):\n",
        "    return x[ientry]\n"
      ],
      "execution_count": 0,
      "outputs": []
    },
    {
      "cell_type": "markdown",
      "metadata": {
        "id": "TI9_Cs9Y4-j8",
        "colab_type": "text"
      },
      "source": [
        "# Applying Machine Learning\n"
      ]
    },
    {
      "cell_type": "markdown",
      "metadata": {
        "id": "w_zStEdUSLHI",
        "colab_type": "text"
      },
      "source": [
        "## Convolutional Network\n",
        "\n",
        "In natural language processing, we deal with a sentences, where it's not just a collection of independent words concatenated together. Rather, collection of words/subsets of the sentence bring out the semantics. \n",
        "\n",
        "The best way to visualize what a convultional network does is to consider a kernel size of 3. This is a window of 3 words long, where the idea is to extract the context from the sentence. Here is an illustrative example of what the convolutional layer sees when going through the review. The kernel or window moves by one word, and the kernel can be see as the boldface below: \n",
        "\n",
        "* **this movie is** really not good\n",
        "* this **movie is really** not good\n",
        "* this movie **is really not** good\n",
        "* this movie is **really not good** \n",
        "\n",
        "Possibly the most \"meaningful\" sequence of words for a review would be **really not good** since it carries a lot of information. It will be easy for the network to understand the meaning of **not good** due to the convolution nature.\n",
        "\n",
        "* a kernel size of 3,\n",
        "* 64 filters. This means that 64 features (values) will be extracted from each position of the kernel,\n",
        "* a ReLU activation. \n"
      ]
    },
    {
      "cell_type": "markdown",
      "metadata": {
        "id": "dXAdjFr6SLHC",
        "colab_type": "text"
      },
      "source": [
        "Splitting the dataset into a training and testing set can be done much nicer and random way but we can just do this manually to keep track of everything to reproduce results "
      ]
    },
    {
      "cell_type": "code",
      "metadata": {
        "id": "_NjCROcZr50t",
        "colab_type": "code",
        "outputId": "38d1f2e3-4923-4bac-be1d-d14b9f5bae4b",
        "colab": {
          "base_uri": "https://localhost:8080/",
          "height": 34
        }
      },
      "source": [
        "type(10**3)\n",
        "type(10**3 * 10**3)"
      ],
      "execution_count": 0,
      "outputs": [
        {
          "output_type": "execute_result",
          "data": {
            "text/plain": [
              "int"
            ]
          },
          "metadata": {
            "tags": []
          },
          "execution_count": 82
        }
      ]
    },
    {
      "cell_type": "code",
      "metadata": {
        "id": "0D0Eo6t4yv9r",
        "colab_type": "code",
        "colab": {}
      },
      "source": [
        "k = 10**3\n",
        "M = k * k"
      ],
      "execution_count": 0,
      "outputs": []
    },
    {
      "cell_type": "code",
      "metadata": {
        "id": "DVr_LN90SLHJ",
        "colab_type": "code",
        "outputId": "0993702a-45de-46e1-ad6e-9ab57e2d3f30",
        "colab": {
          "base_uri": "https://localhost:8080/",
          "height": 513
        }
      },
      "source": [
        "from sklearn.model_selection import train_test_split\n",
        "x_train, x_test, y_train, y_test = train_test_split(x[:1020*k], y[:1020*k], \n",
        "                                                    test_size=20*k)\n",
        "model = keras.Sequential()\n",
        "model.add(keras.layers.Embedding(len(vocab.words), 64, input_length=250))\n",
        "model.add(keras.layers.Conv1D(filters=64, kernel_size=3, activation='relu'))\n",
        "model.add(keras.layers.Flatten())\n",
        "model.add(keras.layers.Dropout(rate=0.4))\n",
        "model.add(keras.layers.Dense(50, activation='relu'))\n",
        "model.add(keras.layers.Dense(1, activation='sigmoid'))\n",
        "model.summary()\n",
        "\n",
        "model.compile(optimizer='adam',\n",
        "              loss='binary_crossentropy',\n",
        "              metrics=['accuracy'])\n",
        "\n",
        "history_conv = model.fit(x_train, y_train,\n",
        "                         epochs=4,\n",
        "                         batch_size=1000,\n",
        "                         validation_data=(x_test, y_test),\n",
        "                         verbose=1)\n"
      ],
      "execution_count": 0,
      "outputs": [
        {
          "output_type": "stream",
          "text": [
            "_________________________________________________________________\n",
            "Layer (type)                 Output Shape              Param #   \n",
            "=================================================================\n",
            "embedding_4 (Embedding)      (None, 250, 64)           1280128   \n",
            "_________________________________________________________________\n",
            "conv1d_6 (Conv1D)            (None, 248, 64)           12352     \n",
            "_________________________________________________________________\n",
            "flatten_4 (Flatten)          (None, 15872)             0         \n",
            "_________________________________________________________________\n",
            "dropout_4 (Dropout)          (None, 15872)             0         \n",
            "_________________________________________________________________\n",
            "dense_7 (Dense)              (None, 50)                793650    \n",
            "_________________________________________________________________\n",
            "dense_8 (Dense)              (None, 1)                 51        \n",
            "=================================================================\n",
            "Total params: 2,086,181\n",
            "Trainable params: 2,086,181\n",
            "Non-trainable params: 0\n",
            "_________________________________________________________________\n",
            "Train on 1000000 samples, validate on 20000 samples\n",
            "Epoch 1/4\n",
            "1000000/1000000 [==============================] - 27s 27us/step - loss: 0.2259 - acc: 0.9292 - val_loss: 0.2166 - val_acc: 0.9310\n",
            "Epoch 2/4\n",
            "1000000/1000000 [==============================] - 26s 26us/step - loss: 0.2097 - acc: 0.9313 - val_loss: 0.2199 - val_acc: 0.9303\n",
            "Epoch 3/4\n",
            "1000000/1000000 [==============================] - 25s 25us/step - loss: 0.1894 - acc: 0.9353 - val_loss: 0.2325 - val_acc: 0.9294\n",
            "Epoch 4/4\n",
            "1000000/1000000 [==============================] - 26s 26us/step - loss: 0.1613 - acc: 0.9435 - val_loss: 0.2595 - val_acc: 0.9255\n"
          ],
          "name": "stdout"
        }
      ]
    },
    {
      "cell_type": "code",
      "metadata": {
        "id": "lXIJT5QDupax",
        "colab_type": "code",
        "outputId": "b7fb37fe-3266-4148-e829-cbb1d729433a",
        "colab": {
          "base_uri": "https://localhost:8080/",
          "height": 34
        }
      },
      "source": [
        "help(history_conv.history)\n",
        "history_conv.history.keys()"
      ],
      "execution_count": 0,
      "outputs": [
        {
          "output_type": "execute_result",
          "data": {
            "text/plain": [
              "dict_keys(['val_loss', 'val_acc', 'loss', 'acc'])"
            ]
          },
          "metadata": {
            "tags": []
          },
          "execution_count": 80
        }
      ]
    },
    {
      "cell_type": "code",
      "metadata": {
        "id": "0JXQOeIqSLHZ",
        "colab_type": "code",
        "outputId": "9c94d35e-d5cc-4ebe-99c1-130155c33770",
        "colab": {
          "base_uri": "https://localhost:8080/",
          "height": 319
        }
      },
      "source": [
        "import matplotlib.pyplot as plt\n",
        "def plot_accuracy(history, title, miny=None):\n",
        "    '''Plot the training and validation accuracy'''\n",
        "    acc = history.history['acc']\n",
        "    test_acc = history.history['val_acc']\n",
        "    epochs = range(len(acc))\n",
        "    plt.plot(epochs, acc)\n",
        "    plt.plot(epochs, test_acc)\n",
        "    if miny:\n",
        "        plt.ylim(miny, 1.0)\n",
        "    plt.title(title) \n",
        "    plt.xlabel('epoch')\n",
        "    plt.ylabel('accuracy')\n",
        "    plt.legend( ['Training Set', 'Testing Set'] )\n",
        "    plt.figure()\n",
        "    \n",
        "plot_accuracy(history_conv, 'Convolutional Network')"
      ],
      "execution_count": 0,
      "outputs": [
        {
          "output_type": "display_data",
          "data": {
            "image/png": "[encoded data removed]",
            "text/plain": [
              "<Figure size 432x288 with 1 Axes>"
            ]
          },
          "metadata": {
            "tags": []
          }
        },
        {
          "output_type": "display_data",
          "data": {
            "text/plain": [
              "<Figure size 432x288 with 0 Axes>"
            ]
          },
          "metadata": {
            "tags": []
          }
        }
      ]
    },
    {
      "cell_type": "markdown",
      "metadata": {
        "id": "IKVgtSANSLHm",
        "colab_type": "text"
      },
      "source": [
        "**Yikes**! That's quite a bit of overfitting. Let's see how we can fix that..."
      ]
    },
    {
      "cell_type": "code",
      "metadata": {
        "id": "nuTaUerQt7LA",
        "colab_type": "code",
        "outputId": "3cf7bbef-fd46-4c8f-b046-009b384e514c",
        "colab": {
          "base_uri": "https://localhost:8080/",
          "height": 302
        }
      },
      "source": [
        "from sklearn import metrics\n",
        "y_pred_prob = model.predict(x_test)\n",
        "fpr, tpr, thresholds = metrics.roc_curve(y_test, y_pred_prob)\n",
        "\n",
        "plt.plot(fpr, tpr)\n",
        "plt.xlim([0.0, 1.0])\n",
        "plt.ylim([0.0, 1.0])\n",
        "plt.rcParams['font.size'] = 12\n",
        "plt.title('ROC curve for funny classifier')\n",
        "plt.xlabel('False Positive Rate (1 - Specificity)')\n",
        "plt.ylabel('True Positive Rate (Sensitivity)')\n",
        "plt.grid(True)"
      ],
      "execution_count": 0,
      "outputs": [
        {
          "output_type": "display_data",
          "data": {
            "image/png": "[encoded data removed]",
            "text/plain": [
              "<Figure size 432x288 with 1 Axes>"
            ]
          },
          "metadata": {
            "tags": []
          }
        }
      ]
    },
    {
      "cell_type": "markdown",
      "metadata": {
        "id": "NiMp-RnL0xIg",
        "colab_type": "text"
      },
      "source": [
        "## Resampling\n",
        "Let's train the dataset so that the data is about an equal split between those labeled 'funny' and those not"
      ]
    },
    {
      "cell_type": "code",
      "metadata": {
        "id": "OrN08ziP87Ha",
        "colab_type": "code",
        "colab": {}
      },
      "source": [
        "funny_ones = y > 0\n",
        "unfunny_ones = y < 1\n"
      ],
      "execution_count": 0,
      "outputs": []
    },
    {
      "cell_type": "markdown",
      "metadata": {
        "id": "gmj_3BSLASZP",
        "colab_type": "text"
      },
      "source": [
        "Maybe can take a quick peek to see which ones are funny and which aren't"
      ]
    },
    {
      "cell_type": "code",
      "metadata": {
        "id": "ezMZqeHYhkCP",
        "colab_type": "code",
        "colab": {}
      },
      "source": [
        "def return_true_indices(tf_list):\n",
        "    # Takes a true false list and returns the indices of the true\n",
        "    # a = np.array([1, 2, 3, 1, 2, 3])\n",
        "    # tf_list = a==2\n",
        "    # returns [1, 4]\n",
        "    itrues = np.arange(len(tf_list))\n",
        "    return itrues[tf_list]  \n",
        "def print_stats(sub, tot, typ):\n",
        "  print('# of {}:'.format(typ),'{:,}'.format(len(sub)))\n",
        "  print('# of total reviews:','{:,}'.format(len(tot)))\n",
        "  print('% funny:','{:.2f}'.format(len(sub)/len(tot)*100), '%')\n",
        "  print('\\n\\n\\n')\n"
      ],
      "execution_count": 0,
      "outputs": []
    },
    {
      "cell_type": "code",
      "metadata": {
        "id": "fin8Hrha_eed",
        "colab_type": "code",
        "colab": {}
      },
      "source": [
        "# # print(funny_ones)\n",
        "# ifunny_ones = return_true_indices(funny_ones)\n",
        "# iunfunny_ones = return_true_indices(unfunny_ones)\n",
        "# print('yfunny',len(y[funny_ones]))\n",
        "# print('xunfunny',x[unfunny_ones].shape)\n",
        "# print(len(y[funny_ones]) + len(y[unfunny_ones]))  \n",
        "\n",
        "print(\"Funny Reviews\")\n",
        "print(ifunny_ones)\n",
        "for f in ifunny_ones[-2:]:\n",
        "    print_entry(f)\n",
        "\n",
        "print_stats(ifunny_ones, y, 'funny')\n",
        "\n",
        "\n",
        "print(\"Unfunny Reviews\")\n",
        "print(iunfunny_ones)\n",
        "for u in iunfunny_ones[-2:]:\n",
        "    print_entry(u)\n",
        "\n",
        "# import locale\n",
        "# locale.setlocale(locale.LC_ALL, 'en_US')\n",
        "print_stats(iunfunny_ones, y, 'not funny')\n",
        "# print('# of total reviews:',{len(y)}.format)\n",
        "# print('# of total reviews:',f'{len(y):,}')\n",
        "# print('% funny:',len(iunfunny_ones)/len(y)*100, '%')"
      ],
      "execution_count": 0,
      "outputs": []
    },
    {
      "cell_type": "markdown",
      "metadata": {
        "id": "owFmGrQs86rG",
        "colab_type": "text"
      },
      "source": [
        "Let's include half"
      ]
    },
    {
      "cell_type": "code",
      "metadata": {
        "id": "SwGSVmYytzcT",
        "colab_type": "code",
        "outputId": "fab66105-60ae-45c2-cf5a-76846b0acec0",
        "colab": {
          "base_uri": "https://localhost:8080/",
          "height": 187
        }
      },
      "source": [
        "n_funny = 500*k\n",
        "n_unfunny = 1*M\n",
        "\n",
        "y_new = (y[funny_ones])[:n_funny]\n",
        "y_new = np.append( y_new, (y[unfunny_ones])[:n_unfunny] )\n",
        "print(y_new)\n",
        "print(y_new.shape)\n",
        "\n",
        "x_new = (x[funny_ones])[:n_funny]\n",
        "x_new = np.concatenate( [x_new, (x[unfunny_ones])[:n_unfunny]] )\n",
        "print(x_new)\n",
        "print(x_new.shape)"
      ],
      "execution_count": 0,
      "outputs": [
        {
          "output_type": "stream",
          "text": [
            "[1 1 1 ... 0 0 0]\n",
            "(1500000,)\n",
            "[[ 805  548    5 ...    0    0    0]\n",
            " [7425  419   11 ...    0    0    0]\n",
            " [   5   16   76 ...    0    0    0]\n",
            " ...\n",
            " [ 344   37    8 ...    0    0    0]\n",
            " [ 427  403   63 ...    0    0    0]\n",
            " [6042  640   14 ...    0    0    0]]\n",
            "(1500000, 250)\n"
          ],
          "name": "stdout"
        }
      ]
    },
    {
      "cell_type": "code",
      "metadata": {
        "id": "pVga4tkhHG-x",
        "colab_type": "code",
        "outputId": "0384183e-1d47-4cd4-f70a-eb509b6d9235",
        "colab": {
          "base_uri": "https://localhost:8080/",
          "height": 232
        }
      },
      "source": [
        "x_train, x_test, y_train, y_test = train_test_split(x_new, y_new \n",
        "                                                    ,test_size=20*k\n",
        "                                                   #,random_state=0\n",
        "                                                    )\n",
        "print(x_train.shape, x_test.shape, y_train.shape, y_test.shape)\n",
        "x_train = x_train[:1*M]\n",
        "y_train = y_train[:1*M]\n",
        "print(x_train)\n",
        "print(y_train.sum())\n",
        "\n",
        "\n",
        "model = keras.Sequential()\n",
        "\n",
        "model.add(keras.layers.Embedding(len(vocab.words), 64, input_length=250))\n",
        "model.add(keras.layers.Conv1D(filters=64, kernel_size=3, activation='relu'))\n",
        "model.add(keras.layers.Flatten())\n",
        "model.add(keras.layers.Dropout(rate=0.4))\n",
        "model.add(keras.layers.Dense(50, activation='relu'))\n",
        "model.add(keras.layers.Dense(1, activation='sigmoid'))\n",
        "\n",
        "model.summary()\n",
        "\n",
        "model.compile(optimizer='adam',\n",
        "              loss='binary_crossentropy',\n",
        "              metrics=['accuracy'])\n",
        "\n",
        "history_conv = model.fit(x_train, y_train,\n",
        "                         epochs=4,\n",
        "                         batch_size=1000,\n",
        "                         validation_data=(x_test, y_test),\n",
        "                         verbose=1)\n",
        "\n",
        "plot_accuracy(history_conv, 'Convolutional Network')"
      ],
      "execution_count": 0,
      "outputs": [
        {
          "output_type": "error",
          "ename": "NameError",
          "evalue": "ignored",
          "traceback": [
            "\u001b[0;31m---------------------------------------------------------------------------\u001b[0m",
            "\u001b[0;31mNameError\u001b[0m                                 Traceback (most recent call last)",
            "\u001b[0;32m<ipython-input-65-f944606e8a7d>\u001b[0m in \u001b[0;36m<module>\u001b[0;34m()\u001b[0m\n\u001b[0;32m----> 1\u001b[0;31m x_train, x_test, y_train, y_test = train_test_split(x_new, y_new \n\u001b[0m\u001b[1;32m      2\u001b[0m                                                     \u001b[0;34m,\u001b[0m\u001b[0mtest_size\u001b[0m\u001b[0;34m=\u001b[0m\u001b[0;36m20\u001b[0m\u001b[0;34m*\u001b[0m\u001b[0mk\u001b[0m\u001b[0;34m\u001b[0m\u001b[0;34m\u001b[0m\u001b[0m\n\u001b[1;32m      3\u001b[0m                                                    \u001b[0;31m#,random_state=0\u001b[0m\u001b[0;34m\u001b[0m\u001b[0;34m\u001b[0m\u001b[0;34m\u001b[0m\u001b[0m\n\u001b[1;32m      4\u001b[0m                                                     )\n\u001b[1;32m      5\u001b[0m \u001b[0mprint\u001b[0m\u001b[0;34m(\u001b[0m\u001b[0mx_train\u001b[0m\u001b[0;34m.\u001b[0m\u001b[0mshape\u001b[0m\u001b[0;34m,\u001b[0m \u001b[0mx_test\u001b[0m\u001b[0;34m.\u001b[0m\u001b[0mshape\u001b[0m\u001b[0;34m,\u001b[0m \u001b[0my_train\u001b[0m\u001b[0;34m.\u001b[0m\u001b[0mshape\u001b[0m\u001b[0;34m,\u001b[0m \u001b[0my_test\u001b[0m\u001b[0;34m.\u001b[0m\u001b[0mshape\u001b[0m\u001b[0;34m)\u001b[0m\u001b[0;34m\u001b[0m\u001b[0;34m\u001b[0m\u001b[0m\n",
            "\u001b[0;31mNameError\u001b[0m: name 'x_new' is not defined"
          ]
        }
      ]
    },
    {
      "cell_type": "markdown",
      "metadata": {
        "id": "zS6y15zVoFsW",
        "colab_type": "text"
      },
      "source": [
        "Still some overfitting issues here. We are not getting to the root cause."
      ]
    },
    {
      "cell_type": "markdown",
      "metadata": {
        "id": "-0Zpy_QqSLHn",
        "colab_type": "text"
      },
      "source": [
        "## Stacked Convolutional Layers \n",
        "\n",
        "In this section, we will optimize our convolutional network further by stacking convolutional layers. \n",
        "\n",
        "As we have done in [Tuning a deep convolutional network for image recognition](https://thedatafrog.com/deep-learning-keras/), we perform **max pooling** between each convolutional layer, and the layers extract more and more features as we progress in the network. \n",
        "\n",
        "To avoid overfitting, we use the whole dataset for training except for 20000 events that are kept for testing. "
      ]
    },
    {
      "cell_type": "code",
      "metadata": {
        "id": "VNbD8b6xSLHq",
        "colab_type": "code",
        "outputId": "6c13db73-bdd2-4f48-9d7b-9c8e48a83f9b",
        "colab": {
          "base_uri": "https://localhost:8080/",
          "height": 978
        }
      },
      "source": [
        "# n_test = 20 * k\n",
        "# x_test = x[:n_test]\n",
        "# y_test = y[:n_test]\n",
        "# x_train = x[n_test:n_test+n_train]\n",
        "# y_train = y[n_test:n_test+n_train]\n",
        "\n",
        "model = keras.Sequential()\n",
        "\n",
        "model.add(keras.layers.Embedding(len(vocab.words), 64, input_length=250))\n",
        "model.add(keras.layers.Conv1D(filters=16, kernel_size=3, \n",
        "                              padding='same', activation='relu'))\n",
        "model.add(keras.layers.MaxPooling1D(pool_size=2))\n",
        "model.add(keras.layers.Conv1D(filters=32, kernel_size=3, \n",
        "                              padding='same', activation='relu'))\n",
        "model.add(keras.layers.MaxPooling1D(pool_size=2))\n",
        "model.add(keras.layers.Conv1D(filters=64, kernel_size=3, \n",
        "                              padding='same', activation='relu'))\n",
        "model.add(keras.layers.Flatten())\n",
        "model.add(keras.layers.Dropout(rate=0.5))\n",
        "model.add(keras.layers.Dense(100, activation='relu'))\n",
        "model.add(keras.layers.Dense(1, activation='sigmoid'))\n",
        "\n",
        "model.summary()\n",
        "\n",
        "model.compile(optimizer='adam',\n",
        "              loss='binary_crossentropy',\n",
        "              metrics=['accuracy'])\n",
        "\n",
        "history_conv_stacked = model.fit(x_train, y_train,\n",
        "                    epochs=4,\n",
        "                    batch_size=1000,\n",
        "                    validation_data=(x_test, y_test),\n",
        "                    verbose=1)\n",
        "\n",
        "plot_accuracy(history_conv_stacked, 'Stacked Convolutional Network')"
      ],
      "execution_count": 0,
      "outputs": [
        {
          "output_type": "stream",
          "text": [
            "W0729 12:21:02.053004 140533146036096 deprecation_wrapper.py:119] From /usr/local/lib/python3.6/dist-packages/keras/backend/tensorflow_backend.py:3976: The name tf.nn.max_pool is deprecated. Please use tf.nn.max_pool2d instead.\n",
            "\n"
          ],
          "name": "stderr"
        },
        {
          "output_type": "stream",
          "text": [
            "_________________________________________________________________\n",
            "Layer (type)                 Output Shape              Param #   \n",
            "=================================================================\n",
            "embedding_2 (Embedding)      (None, 250, 64)           1280128   \n",
            "_________________________________________________________________\n",
            "conv1d_2 (Conv1D)            (None, 250, 16)           3088      \n",
            "_________________________________________________________________\n",
            "max_pooling1d_1 (MaxPooling1 (None, 125, 16)           0         \n",
            "_________________________________________________________________\n",
            "conv1d_3 (Conv1D)            (None, 125, 32)           1568      \n",
            "_________________________________________________________________\n",
            "max_pooling1d_2 (MaxPooling1 (None, 62, 32)            0         \n",
            "_________________________________________________________________\n",
            "conv1d_4 (Conv1D)            (None, 62, 64)            6208      \n",
            "_________________________________________________________________\n",
            "flatten_2 (Flatten)          (None, 3968)              0         \n",
            "_________________________________________________________________\n",
            "dropout_2 (Dropout)          (None, 3968)              0         \n",
            "_________________________________________________________________\n",
            "dense_3 (Dense)              (None, 100)               396900    \n",
            "_________________________________________________________________\n",
            "dense_4 (Dense)              (None, 1)                 101       \n",
            "=================================================================\n",
            "Total params: 1,687,993\n",
            "Trainable params: 1,687,993\n",
            "Non-trainable params: 0\n",
            "_________________________________________________________________\n",
            "Train on 1000000 samples, validate on 20000 samples\n",
            "Epoch 1/4\n",
            "1000000/1000000 [==============================] - 22s 22us/step - loss: 0.6285 - acc: 0.6489 - val_loss: 0.6302 - val_acc: 0.6482\n",
            "Epoch 2/4\n",
            "1000000/1000000 [==============================] - 21s 21us/step - loss: 0.6136 - acc: 0.6650 - val_loss: 0.6300 - val_acc: 0.6469\n",
            "Epoch 3/4\n",
            "1000000/1000000 [==============================] - 21s 21us/step - loss: 0.5983 - acc: 0.6793 - val_loss: 0.6393 - val_acc: 0.6445\n",
            "Epoch 4/4\n",
            "1000000/1000000 [==============================] - 21s 21us/step - loss: 0.5733 - acc: 0.7009 - val_loss: 0.6535 - val_acc: 0.6363\n"
          ],
          "name": "stdout"
        },
        {
          "output_type": "display_data",
          "data": {
            "image/png": "[encoded data removed]",
            "text/plain": [
              "<Figure size 432x288 with 1 Axes>"
            ]
          },
          "metadata": {
            "tags": []
          }
        },
        {
          "output_type": "display_data",
          "data": {
            "text/plain": [
              "<Figure size 432x288 with 0 Axes>"
            ]
          },
          "metadata": {
            "tags": []
          }
        }
      ]
    },
    {
      "cell_type": "markdown",
      "metadata": {
        "id": "lPUfk9bqSLIZ",
        "colab_type": "text"
      },
      "source": [
        "# Investigating the Misclassified Reviews\n",
        "\n",
        "It's always interesting to look at misclassified examples to get a hint of what's going on and maybe get ideas for further improvements. That's what we're going to do now, with the first 100 examples. \n",
        "\n",
        "Here are the predictions and the true labels for these samples: "
      ]
    },
    {
      "cell_type": "code",
      "metadata": {
        "id": "CLTK82FsSLIb",
        "colab_type": "code",
        "outputId": "7cadbc77-da13-4c9c-f6d6-7728b13e2d53",
        "colab": {}
      },
      "source": [
        "x_sample = x_test\n",
        "y_sample = y_test\n",
        "preds = model.predict_classes(x_sample)\n",
        "preds = np.array(preds).flatten()\n",
        "print('true:')\n",
        "print(y_sample)\n",
        "print('predictions:')\n",
        "print(preds)"
      ],
      "execution_count": 0,
      "outputs": [
        {
          "output_type": "stream",
          "text": [
            "true:\n",
            "[0 1 1 ... 0 1 0]\n",
            "predictions:\n",
            "[0 1 1 ... 1 1 0]\n"
          ],
          "name": "stdout"
        }
      ]
    },
    {
      "cell_type": "markdown",
      "metadata": {
        "id": "-frifuBxSLIf",
        "colab_type": "text"
      },
      "source": [
        "Now, we select the misclassified examples, together with the true label and the prediction for these examples:"
      ]
    },
    {
      "cell_type": "code",
      "metadata": {
        "id": "oQpM3HnPSLIg",
        "colab_type": "code",
        "outputId": "87b0ca02-3bb5-4ab3-9b33-ba1cd6a9da8b",
        "colab": {}
      },
      "source": [
        "idx = preds!=y_sample\n",
        "miscl = x_sample[idx]\n",
        "miscl_pred = preds[idx]\n",
        "miscl_true = y_sample[idx]\n",
        "\n",
        "print('true:')\n",
        "print(miscl_pred)\n",
        "print('predictions:')\n",
        "print(miscl_true)\n",
        "print(miscl_true.shape)"
      ],
      "execution_count": 0,
      "outputs": [
        {
          "output_type": "stream",
          "text": [
            "true:\n",
            "[1 0 1 ... 1 1 1]\n",
            "predictions:\n",
            "[0 1 0 ... 0 0 0]\n",
            "(1280,)\n"
          ],
          "name": "stdout"
        }
      ]
    },
    {
      "cell_type": "code",
      "metadata": {
        "collapsed": true,
        "id": "mfmLzDkYSLIj",
        "colab_type": "code",
        "outputId": "a59fa85a-06df-4e57-eb61-3f4a9709a09a",
        "colab": {}
      },
      "source": [
        "data[:1]"
      ],
      "execution_count": 0,
      "outputs": [
        {
          "output_type": "execute_result",
          "data": {
            "text/plain": [
              "array([[    1,     6,     1,     0,   805,   548,     5,   528,    28,\n",
              "           65,   103,    55,   238,  8080,   264,    11,  4895,   537,\n",
              "           62,    55, 10647,   182,  9013,   737,   753,  9013,    56,\n",
              "           11,  3754,  2963,   276,     2,   977,  1865,    14,    24,\n",
              "         1767,     0,     0,     0,     0,     0,     0,     0,     0,\n",
              "            0,     0,     0,     0,     0,     0,     0,     0,     0,\n",
              "            0,     0,     0,     0,     0,     0,     0,     0,     0,\n",
              "            0,     0,     0,     0,     0,     0,     0,     0,     0,\n",
              "            0,     0,     0,     0,     0,     0,     0,     0,     0,\n",
              "            0,     0,     0,     0,     0,     0,     0,     0,     0,\n",
              "            0,     0,     0,     0,     0,     0,     0,     0,     0,\n",
              "            0,     0,     0,     0,     0,     0,     0,     0,     0,\n",
              "            0,     0,     0,     0,     0,     0,     0,     0,     0,\n",
              "            0,     0,     0,     0,     0,     0,     0,     0,     0,\n",
              "            0,     0,     0,     0,     0,     0,     0,     0,     0,\n",
              "            0,     0,     0,     0,     0,     0,     0,     0,     0,\n",
              "            0,     0,     0,     0,     0,     0,     0,     0,     0,\n",
              "            0,     0,     0,     0,     0,     0,     0,     0,     0,\n",
              "            0,     0,     0,     0,     0,     0,     0,     0,     0,\n",
              "            0,     0,     0,     0,     0,     0,     0,     0,     0,\n",
              "            0,     0,     0,     0,     0,     0,     0,     0,     0,\n",
              "            0,     0,     0,     0,     0,     0,     0,     0,     0,\n",
              "            0,     0,     0,     0,     0,     0,     0,     0,     0,\n",
              "            0,     0,     0,     0,     0,     0,     0,     0,     0,\n",
              "            0,     0,     0,     0,     0,     0,     0,     0,     0,\n",
              "            0,     0,     0,     0,     0,     0,     0,     0,     0,\n",
              "            0,     0,     0,     0,     0,     0,     0,     0,     0,\n",
              "            0,     0,     0,     0,     0,     0,     0,     0,     0,\n",
              "            0,     0]], dtype=int16)"
            ]
          },
          "metadata": {
            "tags": []
          },
          "execution_count": 65
        }
      ]
    },
    {
      "cell_type": "markdown",
      "metadata": {
        "id": "bD6uwyhHSLIo",
        "colab_type": "text"
      },
      "source": [
        "And we print the first five: "
      ]
    },
    {
      "cell_type": "code",
      "metadata": {
        "id": "d0jHuItZSLIz",
        "colab_type": "code",
        "outputId": "1bdc261c-08a9-48e7-d8eb-df9f8ec5461f",
        "colab": {}
      },
      "source": [
        "for pred, true, rev in zip(miscl_pred[:5], miscl_true, miscl[:5]):\n",
        "    rev = rev[rev!=0] # remove padding\n",
        "    print(pred, true)\n",
        "    print(' '.join(vocab.decode(rev)))\n",
        "    print('\\n')"
      ],
      "execution_count": 0,
      "outputs": [
        {
          "output_type": "stream",
          "text": [
            "1 0\n",
            "tracy dessert had big name hong kong one first markham place has been here many years now ! came some chinese dessert must say their selection has increased tremendously over years might as well add price has also increased tremendously as well waitress gave us tea which could taste had red date fancy ! simple taro with coconut with tapioca pearls like $ 5.25 or something basically all desserts were more than $ 5 's crazy ! can literally just make this dessert at home bowl would probably cost like $ 0.50 few years ago think can still get like $ 3- $ 4 which more reasonable but wow more than $ 5 little over top this dessert though must say tracy dessert they little more on expensive side also saw other items on menu like fish balls chicken wings shaved ice friend got mango drink with fresh mango ! 'm also surprised how many people come tracy dessert after work came on sunday tables were always filled think amount tables they had were just perfect because no one really waited seats long time but tables kept filling up once table finished\n",
            "\n",
            "\n",
            "0 1\n",
            "here 's why n't write reviews chinese restaurants : have look up their english names ... 's popular did n't try until recently bubble tea here really good 's pricier than one rose tea but also get more like noodles with pork sauce 've tried both thin noodles wide one less chewy kind sticky prefer thin one this dish dan dan noodles different from what expecting friend liked but 's just okay noodle with wonton flavorless soup dumplings good but not amazing if 've never had before give try probably will like 'd like try noodles with beef soup next time appetizers too pricy opinion wo n't pay $ 6 small plate vegetables again ... owner nice guy enjoyed chatting with him little bit during dinners\n",
            "\n",
            "\n",
            "1 0\n",
            "took kids here hang out on one fine 72 degree sunny saturday february going over bridge coming from aliante casino cant miss nice view waterfall at park too bad this playground were only nice things can vouch playground nice fenced little area has decent amount playground equipment swings slides tables benches like soft material they use playground equipment built on there also sand lot area has dinosaur bones as props day went playground packed kids were running into each other as they went down slides there were kids actually waiting get on swings ! after while decided walk around check out rest park see ducks everywhere especially pond has nice waterfall going into unfortunately this where `` nice stuff '' ends everywhere on paths were walking on were green duck crap which brings question `` there some kind spray or force field they have on playground ? '' because there were no ducks or green duck crap anywhere playground im also curious as how many people would actually spread out blanket have picnic on grass crap all over as well just doing this review im starting get grossed out thinking about day after carefully trying not step on any crap going car made mental note make sure mention all green crap saw this review not hesitate mentioning everybody know either making plans on coming here or just thinking about only thing positive can think about come here if on diet after seeing all green crap probably wont having much an\n",
            "\n",
            "\n",
            "0 1\n",
            "received mailer thought okay let 's go walked on monday afternoon greeted by bartender wearing cute t shirt said bar below baby how cute however never got her name looked over menu asked what good she said club ordered yes good had beer club on white toast served with fries watched sport center really felt at ease there good music playing will go back again\n",
            "\n",
            "\n",
            "0 1\n",
            "love crust on this pizza sauce decent cheese okay pepperoni not best quality friend ordered an everything slice said good just wished cheese on toppings hold together\n",
            "\n",
            "\n"
          ],
          "name": "stdout"
        }
      ]
    },
    {
      "cell_type": "code",
      "metadata": {
        "id": "_QuHcsr8SLI-",
        "colab_type": "code",
        "outputId": "46a72ac2-5e64-4ab5-a231-048537fefb69",
        "colab": {}
      },
      "source": [
        "df = pd.DataFrame(data=data[:100,:4], columns=['stars','useful','funny','cool'])\n",
        "df['misc'] = idx[:100]\n",
        "# print the misclassified lines: \n",
        "df[df['misc']==False]"
      ],
      "execution_count": 0,
      "outputs": [
        {
          "output_type": "execute_result",
          "data": {
            "text/html": [
              "<div>\n",
              "<style scoped>\n",
              "    .dataframe tbody tr th:only-of-type {\n",
              "        vertical-align: middle;\n",
              "    }\n",
              "\n",
              "    .dataframe tbody tr th {\n",
              "        vertical-align: top;\n",
              "    }\n",
              "\n",
              "    .dataframe thead th {\n",
              "        text-align: right;\n",
              "    }\n",
              "</style>\n",
              "<table border=\"1\" class=\"dataframe\">\n",
              "  <thead>\n",
              "    <tr style=\"text-align: right;\">\n",
              "      <th></th>\n",
              "      <th>stars</th>\n",
              "      <th>useful</th>\n",
              "      <th>funny</th>\n",
              "      <th>cool</th>\n",
              "      <th>misc</th>\n",
              "    </tr>\n",
              "  </thead>\n",
              "  <tbody>\n",
              "    <tr>\n",
              "      <th>0</th>\n",
              "      <td>1</td>\n",
              "      <td>6</td>\n",
              "      <td>1</td>\n",
              "      <td>0</td>\n",
              "      <td>False</td>\n",
              "    </tr>\n",
              "    <tr>\n",
              "      <th>1</th>\n",
              "      <td>5</td>\n",
              "      <td>0</td>\n",
              "      <td>0</td>\n",
              "      <td>0</td>\n",
              "      <td>False</td>\n",
              "    </tr>\n",
              "    <tr>\n",
              "      <th>2</th>\n",
              "      <td>5</td>\n",
              "      <td>3</td>\n",
              "      <td>0</td>\n",
              "      <td>0</td>\n",
              "      <td>False</td>\n",
              "    </tr>\n",
              "    <tr>\n",
              "      <th>3</th>\n",
              "      <td>5</td>\n",
              "      <td>0</td>\n",
              "      <td>0</td>\n",
              "      <td>0</td>\n",
              "      <td>False</td>\n",
              "    </tr>\n",
              "    <tr>\n",
              "      <th>4</th>\n",
              "      <td>1</td>\n",
              "      <td>7</td>\n",
              "      <td>0</td>\n",
              "      <td>0</td>\n",
              "      <td>False</td>\n",
              "    </tr>\n",
              "    <tr>\n",
              "      <th>5</th>\n",
              "      <td>4</td>\n",
              "      <td>0</td>\n",
              "      <td>0</td>\n",
              "      <td>0</td>\n",
              "      <td>False</td>\n",
              "    </tr>\n",
              "    <tr>\n",
              "      <th>7</th>\n",
              "      <td>1</td>\n",
              "      <td>3</td>\n",
              "      <td>1</td>\n",
              "      <td>1</td>\n",
              "      <td>False</td>\n",
              "    </tr>\n",
              "    <tr>\n",
              "      <th>8</th>\n",
              "      <td>2</td>\n",
              "      <td>1</td>\n",
              "      <td>0</td>\n",
              "      <td>0</td>\n",
              "      <td>False</td>\n",
              "    </tr>\n",
              "    <tr>\n",
              "      <th>9</th>\n",
              "      <td>3</td>\n",
              "      <td>1</td>\n",
              "      <td>0</td>\n",
              "      <td>1</td>\n",
              "      <td>False</td>\n",
              "    </tr>\n",
              "    <tr>\n",
              "      <th>10</th>\n",
              "      <td>4</td>\n",
              "      <td>0</td>\n",
              "      <td>0</td>\n",
              "      <td>0</td>\n",
              "      <td>False</td>\n",
              "    </tr>\n",
              "    <tr>\n",
              "      <th>11</th>\n",
              "      <td>1</td>\n",
              "      <td>0</td>\n",
              "      <td>1</td>\n",
              "      <td>0</td>\n",
              "      <td>False</td>\n",
              "    </tr>\n",
              "    <tr>\n",
              "      <th>12</th>\n",
              "      <td>4</td>\n",
              "      <td>0</td>\n",
              "      <td>0</td>\n",
              "      <td>0</td>\n",
              "      <td>False</td>\n",
              "    </tr>\n",
              "    <tr>\n",
              "      <th>13</th>\n",
              "      <td>4</td>\n",
              "      <td>0</td>\n",
              "      <td>0</td>\n",
              "      <td>0</td>\n",
              "      <td>False</td>\n",
              "    </tr>\n",
              "    <tr>\n",
              "      <th>14</th>\n",
              "      <td>1</td>\n",
              "      <td>1</td>\n",
              "      <td>1</td>\n",
              "      <td>0</td>\n",
              "      <td>False</td>\n",
              "    </tr>\n",
              "    <tr>\n",
              "      <th>15</th>\n",
              "      <td>5</td>\n",
              "      <td>0</td>\n",
              "      <td>0</td>\n",
              "      <td>0</td>\n",
              "      <td>False</td>\n",
              "    </tr>\n",
              "    <tr>\n",
              "      <th>16</th>\n",
              "      <td>4</td>\n",
              "      <td>0</td>\n",
              "      <td>0</td>\n",
              "      <td>0</td>\n",
              "      <td>False</td>\n",
              "    </tr>\n",
              "    <tr>\n",
              "      <th>17</th>\n",
              "      <td>3</td>\n",
              "      <td>1</td>\n",
              "      <td>7</td>\n",
              "      <td>1</td>\n",
              "      <td>False</td>\n",
              "    </tr>\n",
              "    <tr>\n",
              "      <th>18</th>\n",
              "      <td>5</td>\n",
              "      <td>0</td>\n",
              "      <td>0</td>\n",
              "      <td>0</td>\n",
              "      <td>False</td>\n",
              "    </tr>\n",
              "    <tr>\n",
              "      <th>19</th>\n",
              "      <td>3</td>\n",
              "      <td>0</td>\n",
              "      <td>0</td>\n",
              "      <td>0</td>\n",
              "      <td>False</td>\n",
              "    </tr>\n",
              "    <tr>\n",
              "      <th>20</th>\n",
              "      <td>5</td>\n",
              "      <td>1</td>\n",
              "      <td>0</td>\n",
              "      <td>0</td>\n",
              "      <td>False</td>\n",
              "    </tr>\n",
              "    <tr>\n",
              "      <th>21</th>\n",
              "      <td>5</td>\n",
              "      <td>9</td>\n",
              "      <td>6</td>\n",
              "      <td>9</td>\n",
              "      <td>False</td>\n",
              "    </tr>\n",
              "    <tr>\n",
              "      <th>22</th>\n",
              "      <td>4</td>\n",
              "      <td>0</td>\n",
              "      <td>0</td>\n",
              "      <td>0</td>\n",
              "      <td>False</td>\n",
              "    </tr>\n",
              "    <tr>\n",
              "      <th>23</th>\n",
              "      <td>5</td>\n",
              "      <td>0</td>\n",
              "      <td>0</td>\n",
              "      <td>0</td>\n",
              "      <td>False</td>\n",
              "    </tr>\n",
              "    <tr>\n",
              "      <th>24</th>\n",
              "      <td>5</td>\n",
              "      <td>0</td>\n",
              "      <td>0</td>\n",
              "      <td>0</td>\n",
              "      <td>False</td>\n",
              "    </tr>\n",
              "    <tr>\n",
              "      <th>25</th>\n",
              "      <td>5</td>\n",
              "      <td>4</td>\n",
              "      <td>0</td>\n",
              "      <td>0</td>\n",
              "      <td>False</td>\n",
              "    </tr>\n",
              "    <tr>\n",
              "      <th>26</th>\n",
              "      <td>1</td>\n",
              "      <td>7</td>\n",
              "      <td>1</td>\n",
              "      <td>1</td>\n",
              "      <td>False</td>\n",
              "    </tr>\n",
              "    <tr>\n",
              "      <th>27</th>\n",
              "      <td>5</td>\n",
              "      <td>0</td>\n",
              "      <td>0</td>\n",
              "      <td>1</td>\n",
              "      <td>False</td>\n",
              "    </tr>\n",
              "    <tr>\n",
              "      <th>28</th>\n",
              "      <td>1</td>\n",
              "      <td>1</td>\n",
              "      <td>0</td>\n",
              "      <td>0</td>\n",
              "      <td>False</td>\n",
              "    </tr>\n",
              "    <tr>\n",
              "      <th>29</th>\n",
              "      <td>1</td>\n",
              "      <td>0</td>\n",
              "      <td>0</td>\n",
              "      <td>0</td>\n",
              "      <td>False</td>\n",
              "    </tr>\n",
              "    <tr>\n",
              "      <th>30</th>\n",
              "      <td>5</td>\n",
              "      <td>0</td>\n",
              "      <td>0</td>\n",
              "      <td>0</td>\n",
              "      <td>False</td>\n",
              "    </tr>\n",
              "    <tr>\n",
              "      <th>...</th>\n",
              "      <td>...</td>\n",
              "      <td>...</td>\n",
              "      <td>...</td>\n",
              "      <td>...</td>\n",
              "      <td>...</td>\n",
              "    </tr>\n",
              "    <tr>\n",
              "      <th>68</th>\n",
              "      <td>4</td>\n",
              "      <td>1</td>\n",
              "      <td>0</td>\n",
              "      <td>0</td>\n",
              "      <td>False</td>\n",
              "    </tr>\n",
              "    <tr>\n",
              "      <th>69</th>\n",
              "      <td>1</td>\n",
              "      <td>1</td>\n",
              "      <td>0</td>\n",
              "      <td>0</td>\n",
              "      <td>False</td>\n",
              "    </tr>\n",
              "    <tr>\n",
              "      <th>70</th>\n",
              "      <td>1</td>\n",
              "      <td>0</td>\n",
              "      <td>0</td>\n",
              "      <td>0</td>\n",
              "      <td>False</td>\n",
              "    </tr>\n",
              "    <tr>\n",
              "      <th>71</th>\n",
              "      <td>4</td>\n",
              "      <td>0</td>\n",
              "      <td>0</td>\n",
              "      <td>1</td>\n",
              "      <td>False</td>\n",
              "    </tr>\n",
              "    <tr>\n",
              "      <th>73</th>\n",
              "      <td>4</td>\n",
              "      <td>0</td>\n",
              "      <td>0</td>\n",
              "      <td>0</td>\n",
              "      <td>False</td>\n",
              "    </tr>\n",
              "    <tr>\n",
              "      <th>74</th>\n",
              "      <td>5</td>\n",
              "      <td>0</td>\n",
              "      <td>0</td>\n",
              "      <td>0</td>\n",
              "      <td>False</td>\n",
              "    </tr>\n",
              "    <tr>\n",
              "      <th>75</th>\n",
              "      <td>5</td>\n",
              "      <td>11</td>\n",
              "      <td>8</td>\n",
              "      <td>11</td>\n",
              "      <td>False</td>\n",
              "    </tr>\n",
              "    <tr>\n",
              "      <th>76</th>\n",
              "      <td>5</td>\n",
              "      <td>0</td>\n",
              "      <td>0</td>\n",
              "      <td>0</td>\n",
              "      <td>False</td>\n",
              "    </tr>\n",
              "    <tr>\n",
              "      <th>77</th>\n",
              "      <td>3</td>\n",
              "      <td>1</td>\n",
              "      <td>0</td>\n",
              "      <td>1</td>\n",
              "      <td>False</td>\n",
              "    </tr>\n",
              "    <tr>\n",
              "      <th>78</th>\n",
              "      <td>4</td>\n",
              "      <td>0</td>\n",
              "      <td>0</td>\n",
              "      <td>1</td>\n",
              "      <td>False</td>\n",
              "    </tr>\n",
              "    <tr>\n",
              "      <th>79</th>\n",
              "      <td>1</td>\n",
              "      <td>2</td>\n",
              "      <td>0</td>\n",
              "      <td>0</td>\n",
              "      <td>False</td>\n",
              "    </tr>\n",
              "    <tr>\n",
              "      <th>80</th>\n",
              "      <td>5</td>\n",
              "      <td>0</td>\n",
              "      <td>0</td>\n",
              "      <td>0</td>\n",
              "      <td>False</td>\n",
              "    </tr>\n",
              "    <tr>\n",
              "      <th>81</th>\n",
              "      <td>4</td>\n",
              "      <td>0</td>\n",
              "      <td>0</td>\n",
              "      <td>0</td>\n",
              "      <td>False</td>\n",
              "    </tr>\n",
              "    <tr>\n",
              "      <th>82</th>\n",
              "      <td>2</td>\n",
              "      <td>5</td>\n",
              "      <td>1</td>\n",
              "      <td>3</td>\n",
              "      <td>False</td>\n",
              "    </tr>\n",
              "    <tr>\n",
              "      <th>83</th>\n",
              "      <td>5</td>\n",
              "      <td>0</td>\n",
              "      <td>0</td>\n",
              "      <td>0</td>\n",
              "      <td>False</td>\n",
              "    </tr>\n",
              "    <tr>\n",
              "      <th>84</th>\n",
              "      <td>1</td>\n",
              "      <td>0</td>\n",
              "      <td>0</td>\n",
              "      <td>0</td>\n",
              "      <td>False</td>\n",
              "    </tr>\n",
              "    <tr>\n",
              "      <th>85</th>\n",
              "      <td>4</td>\n",
              "      <td>0</td>\n",
              "      <td>0</td>\n",
              "      <td>0</td>\n",
              "      <td>False</td>\n",
              "    </tr>\n",
              "    <tr>\n",
              "      <th>86</th>\n",
              "      <td>1</td>\n",
              "      <td>3</td>\n",
              "      <td>1</td>\n",
              "      <td>1</td>\n",
              "      <td>False</td>\n",
              "    </tr>\n",
              "    <tr>\n",
              "      <th>87</th>\n",
              "      <td>1</td>\n",
              "      <td>0</td>\n",
              "      <td>0</td>\n",
              "      <td>0</td>\n",
              "      <td>False</td>\n",
              "    </tr>\n",
              "    <tr>\n",
              "      <th>88</th>\n",
              "      <td>5</td>\n",
              "      <td>2</td>\n",
              "      <td>0</td>\n",
              "      <td>0</td>\n",
              "      <td>False</td>\n",
              "    </tr>\n",
              "    <tr>\n",
              "      <th>89</th>\n",
              "      <td>5</td>\n",
              "      <td>0</td>\n",
              "      <td>0</td>\n",
              "      <td>0</td>\n",
              "      <td>False</td>\n",
              "    </tr>\n",
              "    <tr>\n",
              "      <th>90</th>\n",
              "      <td>5</td>\n",
              "      <td>1</td>\n",
              "      <td>1</td>\n",
              "      <td>3</td>\n",
              "      <td>False</td>\n",
              "    </tr>\n",
              "    <tr>\n",
              "      <th>91</th>\n",
              "      <td>5</td>\n",
              "      <td>1</td>\n",
              "      <td>0</td>\n",
              "      <td>0</td>\n",
              "      <td>False</td>\n",
              "    </tr>\n",
              "    <tr>\n",
              "      <th>92</th>\n",
              "      <td>4</td>\n",
              "      <td>1</td>\n",
              "      <td>0</td>\n",
              "      <td>0</td>\n",
              "      <td>False</td>\n",
              "    </tr>\n",
              "    <tr>\n",
              "      <th>93</th>\n",
              "      <td>1</td>\n",
              "      <td>0</td>\n",
              "      <td>0</td>\n",
              "      <td>0</td>\n",
              "      <td>False</td>\n",
              "    </tr>\n",
              "    <tr>\n",
              "      <th>94</th>\n",
              "      <td>3</td>\n",
              "      <td>1</td>\n",
              "      <td>1</td>\n",
              "      <td>1</td>\n",
              "      <td>False</td>\n",
              "    </tr>\n",
              "    <tr>\n",
              "      <th>96</th>\n",
              "      <td>2</td>\n",
              "      <td>3</td>\n",
              "      <td>1</td>\n",
              "      <td>1</td>\n",
              "      <td>False</td>\n",
              "    </tr>\n",
              "    <tr>\n",
              "      <th>97</th>\n",
              "      <td>4</td>\n",
              "      <td>0</td>\n",
              "      <td>0</td>\n",
              "      <td>0</td>\n",
              "      <td>False</td>\n",
              "    </tr>\n",
              "    <tr>\n",
              "      <th>98</th>\n",
              "      <td>4</td>\n",
              "      <td>0</td>\n",
              "      <td>0</td>\n",
              "      <td>0</td>\n",
              "      <td>False</td>\n",
              "    </tr>\n",
              "    <tr>\n",
              "      <th>99</th>\n",
              "      <td>5</td>\n",
              "      <td>0</td>\n",
              "      <td>0</td>\n",
              "      <td>0</td>\n",
              "      <td>False</td>\n",
              "    </tr>\n",
              "  </tbody>\n",
              "</table>\n",
              "<p>95 rows × 5 columns</p>\n",
              "</div>"
            ],
            "text/plain": [
              "    stars  useful  funny  cool   misc\n",
              "0       1       6      1     0  False\n",
              "1       5       0      0     0  False\n",
              "2       5       3      0     0  False\n",
              "3       5       0      0     0  False\n",
              "4       1       7      0     0  False\n",
              "5       4       0      0     0  False\n",
              "7       1       3      1     1  False\n",
              "8       2       1      0     0  False\n",
              "9       3       1      0     1  False\n",
              "10      4       0      0     0  False\n",
              "11      1       0      1     0  False\n",
              "12      4       0      0     0  False\n",
              "13      4       0      0     0  False\n",
              "14      1       1      1     0  False\n",
              "15      5       0      0     0  False\n",
              "16      4       0      0     0  False\n",
              "17      3       1      7     1  False\n",
              "18      5       0      0     0  False\n",
              "19      3       0      0     0  False\n",
              "20      5       1      0     0  False\n",
              "21      5       9      6     9  False\n",
              "22      4       0      0     0  False\n",
              "23      5       0      0     0  False\n",
              "24      5       0      0     0  False\n",
              "25      5       4      0     0  False\n",
              "26      1       7      1     1  False\n",
              "27      5       0      0     1  False\n",
              "28      1       1      0     0  False\n",
              "29      1       0      0     0  False\n",
              "30      5       0      0     0  False\n",
              "..    ...     ...    ...   ...    ...\n",
              "68      4       1      0     0  False\n",
              "69      1       1      0     0  False\n",
              "70      1       0      0     0  False\n",
              "71      4       0      0     1  False\n",
              "73      4       0      0     0  False\n",
              "74      5       0      0     0  False\n",
              "75      5      11      8    11  False\n",
              "76      5       0      0     0  False\n",
              "77      3       1      0     1  False\n",
              "78      4       0      0     1  False\n",
              "79      1       2      0     0  False\n",
              "80      5       0      0     0  False\n",
              "81      4       0      0     0  False\n",
              "82      2       5      1     3  False\n",
              "83      5       0      0     0  False\n",
              "84      1       0      0     0  False\n",
              "85      4       0      0     0  False\n",
              "86      1       3      1     1  False\n",
              "87      1       0      0     0  False\n",
              "88      5       2      0     0  False\n",
              "89      5       0      0     0  False\n",
              "90      5       1      1     3  False\n",
              "91      5       1      0     0  False\n",
              "92      4       1      0     0  False\n",
              "93      1       0      0     0  False\n",
              "94      3       1      1     1  False\n",
              "96      2       3      1     1  False\n",
              "97      4       0      0     0  False\n",
              "98      4       0      0     0  False\n",
              "99      5       0      0     0  False\n",
              "\n",
              "[95 rows x 5 columns]"
            ]
          },
          "metadata": {
            "tags": []
          },
          "execution_count": 69
        }
      ]
    }
  ]
}