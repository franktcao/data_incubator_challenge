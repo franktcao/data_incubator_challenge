{
  "nbformat": 4,
  "nbformat_minor": 0,
  "metadata": {
    "colab": {
      "name": "yelp_what_is_funny.ipynb",
      "version": "0.3.2",
      "provenance": [],
      "collapsed_sections": [
        "fWpomgSMgcTE"
      ],
      "toc_visible": true,
      "include_colab_link": true
    },
    "language_info": {
      "codemirror_mode": {
        "name": "ipython",
        "version": 3
      },
      "file_extension": ".py",
      "mimetype": "text/x-python",
      "name": "python",
      "nbconvert_exporter": "python",
      "pygments_lexer": "ipython3",
      "version": "3.7.0"
    },
    "kernelspec": {
      "name": "python3",
      "display_name": "Python 3"
    },
    "accelerator": "GPU"
  },
  "cells": [
    {
      "cell_type": "markdown",
      "metadata": {
        "id": "view-in-github",
        "colab_type": "text"
      },
      "source": [
        "<a href=\"https://colab.research.google.com/github/franktcao/data_incubator_challenge/blob/master/yelp_what_is_funny.ipynb\" target=\"_parent\"><img src=\"https://colab.research.google.com/assets/colab-badge.svg\" alt=\"Open In Colab\"/></a>"
      ]
    },
    {
      "cell_type": "markdown",
      "metadata": {
        "id": "zcEPYhV05X-v",
        "colab_type": "text"
      },
      "source": [
        "# Sentimental Analysis with Yelp Open Dataset\n"
      ]
    },
    {
      "cell_type": "markdown",
      "metadata": {
        "id": "OoCp-9PpSLFc",
        "colab_type": "text"
      },
      "source": [
        "\n",
        "##Introduction\n",
        "\n",
        "Using [Yelp's open dataset](https://www.yelp.com/dataset) we want to get a handle on what makes a review funny. Intuitively, maybe it should be at an accessible 5th grade reading level to cast a wide net. Maybe it should be a useful or cool review. Should we expect lower stars or higher? \n",
        "\n",
        "We will classify the reviews as funny or unfunny using deep neural networks.\n",
        "\n",
        "We will try to see if some sentiment analysis can be done via **convolutional layers**.\n",
        "\n"
      ]
    },
    {
      "cell_type": "markdown",
      "metadata": {
        "id": "bzwQPQ6BTFeH",
        "colab_type": "text"
      },
      "source": [
        "\n",
        "# Starting"
      ]
    },
    {
      "cell_type": "markdown",
      "metadata": {
        "id": "-VzQ-uM3TIOj",
        "colab_type": "text"
      },
      "source": [
        "## Setting things up"
      ]
    },
    {
      "cell_type": "markdown",
      "metadata": {
        "id": "8diT4Q3xTgHQ",
        "colab_type": "text"
      },
      "source": [
        "### Mounting Google Drive"
      ]
    },
    {
      "cell_type": "markdown",
      "metadata": {
        "id": "w8JOOUCge6IO",
        "colab_type": "text"
      },
      "source": [
        "Now, the file is pretty big so I've previously uploaded it to my Google drive. Let's mount it:"
      ]
    },
    {
      "cell_type": "code",
      "metadata": {
        "id": "EruglkM0TJLg",
        "colab_type": "code",
        "outputId": "9811130d-9fde-4615-fa7c-38e8142861f8",
        "colab": {
          "base_uri": "https://localhost:8080/",
          "height": 122
        }
      },
      "source": [
        "from google.colab import drive\n",
        "drive.mount('/content/drive')"
      ],
      "execution_count": 0,
      "outputs": [
        {
          "output_type": "stream",
          "text": [
            "Go to this URL in a browser: https://accounts.google.com/o/oauth2/auth?client_id=947318989803-6bn6qk8qdgf4n4g3pfee6491hc0brc4i.apps.googleusercontent.com&redirect_uri=urn%3Aietf%3Awg%3Aoauth%3A2.0%3Aoob&scope=email%20https%3A%2F%2Fwww.googleapis.com%2Fauth%2Fdocs.test%20https%3A%2F%2Fwww.googleapis.com%2Fauth%2Fdrive%20https%3A%2F%2Fwww.googleapis.com%2Fauth%2Fdrive.photos.readonly%20https%3A%2F%2Fwww.googleapis.com%2Fauth%2Fpeopleapi.readonly&response_type=code\n",
            "\n",
            "Enter your authorization code:\n",
            "··········\n",
            "Mounted at /content/drive\n"
          ],
          "name": "stdout"
        }
      ]
    },
    {
      "cell_type": "markdown",
      "metadata": {
        "id": "MPVUo4bjTrJc",
        "colab_type": "text"
      },
      "source": [
        "### Importing Useful Modules"
      ]
    },
    {
      "cell_type": "code",
      "metadata": {
        "id": "0J3UJSbvSLFi",
        "colab_type": "code",
        "colab": {}
      },
      "source": [
        "import matplotlib.pyplot as plt\n",
        "import numpy as np\n",
        "import pandas as pd\n",
        "import keras\n",
        "\n",
        "\n",
        "# Needed for Mac OSX\n",
        "import os \n",
        "os.environ['KMP_DUPLICATE_LIB_OK'] = 'True'\n"
      ],
      "execution_count": 0,
      "outputs": []
    },
    {
      "cell_type": "markdown",
      "metadata": {
        "id": "T-4eNeiOT2GF",
        "colab_type": "text"
      },
      "source": [
        "### Loading In Data"
      ]
    },
    {
      "cell_type": "markdown",
      "metadata": {
        "id": "o6OeV1qPSLFm",
        "colab_type": "text"
      },
      "source": [
        "Use the h5py package to open our previously encoded numpy array. "
      ]
    },
    {
      "cell_type": "code",
      "metadata": {
        "id": "TSGhQT2gSLFn",
        "colab_type": "code",
        "colab": {}
      },
      "source": [
        "import h5py\n",
        "\n",
        "# datadir = 'data/partitioned/tokenized/encoded/'\n",
        "datadir = 'drive/My Drive/data/yelp_encoded/'\n",
        "datafile = datadir + 'encoded_review_array.h5'\n",
        "\n",
        "h5 = h5py.File(datafile,'r')\n",
        "# help(h5py.File)\n",
        "# h5.keys()\n",
        "\n",
        "data = h5['reviews']"
      ],
      "execution_count": 0,
      "outputs": []
    },
    {
      "cell_type": "markdown",
      "metadata": {
        "id": "DCn0SNixUKMG",
        "colab_type": "text"
      },
      "source": [
        "#### Examples"
      ]
    },
    {
      "cell_type": "markdown",
      "metadata": {
        "id": "2dEwrdPESLFu",
        "colab_type": "text"
      },
      "source": [
        "h5py only loads in the data needed to complete a given operation into memory. "
      ]
    },
    {
      "cell_type": "code",
      "metadata": {
        "id": "PoihGRDGSLFv",
        "colab_type": "code",
        "outputId": "2750de1f-0690-4ef8-acbc-a40fb14a6744",
        "colab": {
          "base_uri": "https://localhost:8080/",
          "height": 34
        }
      },
      "source": [
        "data.shape"
      ],
      "execution_count": 0,
      "outputs": [
        {
          "output_type": "execute_result",
          "data": {
            "text/plain": [
              "(6685900, 254)"
            ]
          },
          "metadata": {
            "tags": []
          },
          "execution_count": 10
        }
      ]
    },
    {
      "cell_type": "markdown",
      "metadata": {
        "id": "OpX2_VNzSLF0",
        "colab_type": "text"
      },
      "source": [
        "And looking at the first entry"
      ]
    },
    {
      "cell_type": "markdown",
      "metadata": {
        "id": "lwHeGW_LSLGA",
        "colab_type": "text"
      },
      "source": [
        "At preprocessing stage, the first four slots of the entry are dedicated to: \n",
        "\n",
        "0. the number of stars; \n",
        "1. the number of \"useful\" upvotes;\n",
        "2. the number of \"funny\" upvotes;\n",
        "3. the number of \"cool\" upvotes;\n",
        "\n",
        "respectively.\n",
        "\n",
        "The remaining 250 integers are the encoded review text. \n",
        "* If the review contains more than 250 words, it's truncated/dropped. \n",
        "* If it contains less that 250 words the unused slots are encoded with zeros. \n",
        "\n"
      ]
    },
    {
      "cell_type": "code",
      "metadata": {
        "id": "yCKAvOzcSLF1",
        "colab_type": "code",
        "outputId": "6275a211-e13e-4499-9f3a-228f0200189d",
        "colab": {
          "base_uri": "https://localhost:8080/",
          "height": 510
        }
      },
      "source": [
        "data[0]"
      ],
      "execution_count": 0,
      "outputs": [
        {
          "output_type": "execute_result",
          "data": {
            "text/plain": [
              "array([    1,     6,     1,     0,   805,   548,     5,   528,    28,\n",
              "          65,   103,    55,   238,  8080,   264,    11,  4895,   537,\n",
              "          62,    55, 10647,   182,  9013,   737,   753,  9013,    56,\n",
              "          11,  3754,  2963,   276,     2,   977,  1865,    14,    24,\n",
              "        1767,     0,     0,     0,     0,     0,     0,     0,     0,\n",
              "           0,     0,     0,     0,     0,     0,     0,     0,     0,\n",
              "           0,     0,     0,     0,     0,     0,     0,     0,     0,\n",
              "           0,     0,     0,     0,     0,     0,     0,     0,     0,\n",
              "           0,     0,     0,     0,     0,     0,     0,     0,     0,\n",
              "           0,     0,     0,     0,     0,     0,     0,     0,     0,\n",
              "           0,     0,     0,     0,     0,     0,     0,     0,     0,\n",
              "           0,     0,     0,     0,     0,     0,     0,     0,     0,\n",
              "           0,     0,     0,     0,     0,     0,     0,     0,     0,\n",
              "           0,     0,     0,     0,     0,     0,     0,     0,     0,\n",
              "           0,     0,     0,     0,     0,     0,     0,     0,     0,\n",
              "           0,     0,     0,     0,     0,     0,     0,     0,     0,\n",
              "           0,     0,     0,     0,     0,     0,     0,     0,     0,\n",
              "           0,     0,     0,     0,     0,     0,     0,     0,     0,\n",
              "           0,     0,     0,     0,     0,     0,     0,     0,     0,\n",
              "           0,     0,     0,     0,     0,     0,     0,     0,     0,\n",
              "           0,     0,     0,     0,     0,     0,     0,     0,     0,\n",
              "           0,     0,     0,     0,     0,     0,     0,     0,     0,\n",
              "           0,     0,     0,     0,     0,     0,     0,     0,     0,\n",
              "           0,     0,     0,     0,     0,     0,     0,     0,     0,\n",
              "           0,     0,     0,     0,     0,     0,     0,     0,     0,\n",
              "           0,     0,     0,     0,     0,     0,     0,     0,     0,\n",
              "           0,     0,     0,     0,     0,     0,     0,     0,     0,\n",
              "           0,     0,     0,     0,     0,     0,     0,     0,     0,\n",
              "           0,     0], dtype=int16)"
            ]
          },
          "metadata": {
            "tags": []
          },
          "execution_count": 11
        }
      ]
    },
    {
      "cell_type": "markdown",
      "metadata": {
        "id": "OPwGZuBAUirY",
        "colab_type": "text"
      },
      "source": [
        "##  Looking at the Decoded Data"
      ]
    },
    {
      "cell_type": "markdown",
      "metadata": {
        "id": "5E5qP5kGVhbB",
        "colab_type": "text"
      },
      "source": [
        "### Blackbox Decoding\n",
        "\n",
        "To decode the encoded array, we need to use the class `Vocabulary` (from C. Bernet) which encoded the vocabulary. A vocabulary was built from the 5 GB review data and then used to encode it."
      ]
    },
    {
      "cell_type": "code",
      "metadata": {
        "id": "wOTWsGs90sCY",
        "colab_type": "code",
        "colab": {}
      },
      "source": [
        "# # View Google's directory structure\n",
        "# import pprint\n",
        "# print('Module paths:')\n",
        "# pprint.pprint(sys.path)\n",
        "# print('\\nCurrent working directory:',os.getcwd())\n",
        "\n",
        "# from os import listdir\n",
        "# from os.path import isfile, join\n",
        "# files = [f for f in listdir('.') if isfile(join('.',f))]\n",
        "# print(files)"
      ],
      "execution_count": 0,
      "outputs": []
    },
    {
      "cell_type": "code",
      "metadata": {
        "id": "79ReNavdWksl",
        "colab_type": "code",
        "colab": {}
      },
      "source": [
        "import pickle \n",
        "import sys\n",
        "\n",
        "# Load in the Vocabulary class\n",
        "sys.path.append('/content/drive/My Drive/my_python_classes/yelp')\n",
        "import vocabulary\n",
        "\n",
        "\n",
        "# Load in the constructed Yelp vocabulary \n",
        "with open(datadir+'index.pck', 'rb') as pckf: \n",
        "    vocab = pickle.load(pckf)\n",
        "\n",
        "# Method to decode review\n",
        "def decode_review(encoded_review):\n",
        "    encoded_review = encoded_review[encoded_review != 0] # Drop all padding\n",
        "    return ' '.join( vocab.decode(encoded_review) )"
      ],
      "execution_count": 0,
      "outputs": []
    },
    {
      "cell_type": "markdown",
      "metadata": {
        "id": "Dk4EqPVWSLGE",
        "colab_type": "text"
      },
      "source": [
        "### Example:"
      ]
    },
    {
      "cell_type": "code",
      "metadata": {
        "id": "LiVoEcv1SP72",
        "colab_type": "code",
        "outputId": "3a33b0ca-0706-4db4-e847-3b61f892563b",
        "colab": {
          "base_uri": "https://localhost:8080/",
          "height": 85
        }
      },
      "source": [
        "# Again, the encoded review is after the first 4 slots (for the scores)\n",
        "first_review = data[0,4:]\n",
        "# Drop padding\n",
        "first_review = first_review[ first_review != 0 ]\n",
        "print('Encoded review:\\n\\t', first_review[:14], '...')\n",
        "decoded = decode_review(first_review)\n",
        "print('Decoded review:\\n\\t', ' '.join( (decoded.split())[:14] ), '...' ) "
      ],
      "execution_count": 0,
      "outputs": [
        {
          "output_type": "stream",
          "text": [
            "Encoded review:\n",
            "\t [ 805  548    5  528   28   65  103   55  238 8080  264   11 4895  537] ...\n",
            "Decoded review:\n",
            "\t total bill this horrible service ? over $ these crooks actually had nerve charge ...\n"
          ],
          "name": "stdout"
        }
      ]
    },
    {
      "cell_type": "markdown",
      "metadata": {
        "id": "cLSaun4gdKFr",
        "colab_type": "text"
      },
      "source": [
        "The `?` is not in our vocabulary (\"stop words\" are left out to like \"the, he, she, it, ... etc\" since they don't carry much information )"
      ]
    },
    {
      "cell_type": "markdown",
      "metadata": {
        "id": "PUDA73IUSLGX",
        "colab_type": "text"
      },
      "source": [
        "# Extracting Data\n",
        "Let's extract the information needed to train our neural networks.  \n",
        "\n",
        "###Features:"
      ]
    },
    {
      "cell_type": "code",
      "metadata": {
        "id": "lNB8VuGzSLGq",
        "colab_type": "code",
        "outputId": "092cf40a-d097-4fb7-db34-33ac48985bd5",
        "colab": {
          "base_uri": "https://localhost:8080/",
          "height": 34
        }
      },
      "source": [
        "# Attributes\n",
        "stars = data[:,0]\n",
        "useful = data[:,1]\n",
        "funny = data[:,2]\n",
        "cool = data[:,3]\n",
        "\n",
        "# All reviews\n",
        "x = data[:, 4:]\n",
        "\n",
        "print(stars.shape, useful.shape, funny.shape, cool.shape, x.shape)"
      ],
      "execution_count": 6,
      "outputs": [
        {
          "output_type": "stream",
          "text": [
            "(6685900,) (6685900,) (6685900,) (6685900,) (6685900, 250)\n"
          ],
          "name": "stdout"
        }
      ]
    },
    {
      "cell_type": "code",
      "metadata": {
        "id": "0Rpl6X7NjNhD",
        "colab_type": "code",
        "colab": {}
      },
      "source": [
        "stars = stars[ funny > 0 ]\n",
        "useful = useful[ funny > 0 ]\n",
        "cool = cool[ funny > 0 ]\n",
        "x = x[ funny > 0 ]\n",
        "\n",
        "funny = funny[ funny > 0 ]\n"
      ],
      "execution_count": 0,
      "outputs": []
    },
    {
      "cell_type": "markdown",
      "metadata": {
        "id": "fWpomgSMgcTE",
        "colab_type": "text"
      },
      "source": [
        "### Extracting Readability (Under Construction)"
      ]
    },
    {
      "cell_type": "markdown",
      "metadata": {
        "id": "dr7jxpBghehK",
        "colab_type": "text"
      },
      "source": [
        "Let's use the textatistic package to extract the reading level. First we install it:"
      ]
    },
    {
      "cell_type": "code",
      "metadata": {
        "id": "HF2p6EaFPeuq",
        "colab_type": "code",
        "outputId": "76c3b258-68d7-431d-e21e-e5a486e2938b",
        "colab": {
          "base_uri": "https://localhost:8080/",
          "height": 105
        }
      },
      "source": [
        "!pip install textatistic"
      ],
      "execution_count": 0,
      "outputs": [
        {
          "output_type": "stream",
          "text": [
            "Requirement already satisfied: textatistic in /usr/local/lib/python3.6/dist-packages (0.0.1)\n",
            "Requirement already satisfied: pyhyphen>=2.0.5 in /usr/local/lib/python3.6/dist-packages (from textatistic) (3.0.1)\n",
            "Requirement already satisfied: appdirs in /usr/local/lib/python3.6/dist-packages (from pyhyphen>=2.0.5->textatistic) (1.4.3)\n",
            "Requirement already satisfied: six in /usr/local/lib/python3.6/dist-packages (from pyhyphen>=2.0.5->textatistic) (1.12.0)\n"
          ],
          "name": "stdout"
        }
      ]
    },
    {
      "cell_type": "markdown",
      "metadata": {
        "id": "8Wkdze02ieTX",
        "colab_type": "text"
      },
      "source": [
        "Write method to make a new column for the reading level of the review"
      ]
    },
    {
      "cell_type": "code",
      "metadata": {
        "id": "Y13LG_TSN5T9",
        "colab_type": "code",
        "outputId": "34a53f43-e412-4142-cfc1-78f4326053de",
        "colab": {
          "base_uri": "https://localhost:8080/",
          "height": 34
        }
      },
      "source": [
        "def get_readability_score_from_review(enc_review):\n",
        "  review = decode_review(enc_review)\n",
        "  return get_readability_score(review)\n",
        "\n",
        "def get_readability_score(review):\n",
        "  from textatistic import Textatistic\n",
        "  \n",
        "  # This helps define the end of a sentence, needed for flesch score\n",
        "  review = review + '...' \n",
        "  #   print('\\t',review,'\\n')\n",
        "  # Compute the readability scores \n",
        "  scores = Textatistic(review).scores\n",
        "  \n",
        "  # Flesch score gives a higher score for more readable content\n",
        "  #   return scores['flesch_score']\n",
        "  # Gunning-Fog score gives the equivalent grade reading level\n",
        "  return scores['gunningfog_score']\n",
        "\n",
        "\n",
        "print(get_readability_score_from_review(x[2]))"
      ],
      "execution_count": 0,
      "outputs": [
        {
          "output_type": "stream",
          "text": [
            "7.333333333333333\n"
          ],
          "name": "stdout"
        }
      ]
    },
    {
      "cell_type": "markdown",
      "metadata": {
        "id": "QS-Dlek_p_Tu",
        "colab_type": "text"
      },
      "source": [
        "Now extract the readability from the reviews"
      ]
    },
    {
      "cell_type": "code",
      "metadata": {
        "id": "GFtvibV6M47n",
        "colab_type": "code",
        "outputId": "621cb3b2-f91f-4495-8ab1-54ba3b0b8f67",
        "colab": {
          "base_uri": "https://localhost:8080/",
          "height": 344
        }
      },
      "source": [
        "test = np.array(list(map(get_readability_score_from_review, x)))\n",
        "# df['text'].apply(get_readability_score)"
      ],
      "execution_count": 0,
      "outputs": [
        {
          "output_type": "error",
          "ename": "ZeroDivisionError",
          "evalue": "ignored",
          "traceback": [
            "\u001b[0;31m---------------------------------------------------------------------------\u001b[0m",
            "\u001b[0;31mZeroDivisionError\u001b[0m                         Traceback (most recent call last)",
            "\u001b[0;32m<ipython-input-59-4f482eb01810>\u001b[0m in \u001b[0;36m<module>\u001b[0;34m()\u001b[0m\n\u001b[0;32m----> 1\u001b[0;31m \u001b[0mtest\u001b[0m \u001b[0;34m=\u001b[0m \u001b[0mnp\u001b[0m\u001b[0;34m.\u001b[0m\u001b[0marray\u001b[0m\u001b[0;34m(\u001b[0m\u001b[0mlist\u001b[0m\u001b[0;34m(\u001b[0m\u001b[0mmap\u001b[0m\u001b[0;34m(\u001b[0m\u001b[0mget_readability_score_from_review\u001b[0m\u001b[0;34m,\u001b[0m \u001b[0mx\u001b[0m\u001b[0;34m)\u001b[0m\u001b[0;34m)\u001b[0m\u001b[0;34m)\u001b[0m\u001b[0;34m\u001b[0m\u001b[0;34m\u001b[0m\u001b[0m\n\u001b[0m\u001b[1;32m      2\u001b[0m \u001b[0;31m# df['text'].apply(get_readability_score)\u001b[0m\u001b[0;34m\u001b[0m\u001b[0;34m\u001b[0m\u001b[0;34m\u001b[0m\u001b[0m\n",
            "\u001b[0;32m<ipython-input-58-dd774c6cbffc>\u001b[0m in \u001b[0;36mget_readability_score_from_review\u001b[0;34m(enc_review)\u001b[0m\n\u001b[1;32m      1\u001b[0m \u001b[0;32mdef\u001b[0m \u001b[0mget_readability_score_from_review\u001b[0m\u001b[0;34m(\u001b[0m\u001b[0menc_review\u001b[0m\u001b[0;34m)\u001b[0m\u001b[0;34m:\u001b[0m\u001b[0;34m\u001b[0m\u001b[0;34m\u001b[0m\u001b[0m\n\u001b[1;32m      2\u001b[0m   \u001b[0mreview\u001b[0m \u001b[0;34m=\u001b[0m \u001b[0mdecode_review\u001b[0m\u001b[0;34m(\u001b[0m\u001b[0menc_review\u001b[0m\u001b[0;34m)\u001b[0m\u001b[0;34m\u001b[0m\u001b[0;34m\u001b[0m\u001b[0m\n\u001b[0;32m----> 3\u001b[0;31m   \u001b[0;32mreturn\u001b[0m \u001b[0mget_readability_score\u001b[0m\u001b[0;34m(\u001b[0m\u001b[0mreview\u001b[0m\u001b[0;34m)\u001b[0m\u001b[0;34m\u001b[0m\u001b[0;34m\u001b[0m\u001b[0m\n\u001b[0m\u001b[1;32m      4\u001b[0m \u001b[0;34m\u001b[0m\u001b[0m\n\u001b[1;32m      5\u001b[0m \u001b[0;32mdef\u001b[0m \u001b[0mget_readability_score\u001b[0m\u001b[0;34m(\u001b[0m\u001b[0mreview\u001b[0m\u001b[0;34m)\u001b[0m\u001b[0;34m:\u001b[0m\u001b[0;34m\u001b[0m\u001b[0;34m\u001b[0m\u001b[0m\n",
            "\u001b[0;32m<ipython-input-58-dd774c6cbffc>\u001b[0m in \u001b[0;36mget_readability_score\u001b[0;34m(review)\u001b[0m\n\u001b[1;32m     10\u001b[0m   \u001b[0;31m#   print('\\t',review,'\\n')\u001b[0m\u001b[0;34m\u001b[0m\u001b[0;34m\u001b[0m\u001b[0;34m\u001b[0m\u001b[0m\n\u001b[1;32m     11\u001b[0m   \u001b[0;31m# Compute the readability scores\u001b[0m\u001b[0;34m\u001b[0m\u001b[0;34m\u001b[0m\u001b[0;34m\u001b[0m\u001b[0m\n\u001b[0;32m---> 12\u001b[0;31m   \u001b[0mscores\u001b[0m \u001b[0;34m=\u001b[0m \u001b[0mTextatistic\u001b[0m\u001b[0;34m(\u001b[0m\u001b[0mreview\u001b[0m\u001b[0;34m)\u001b[0m\u001b[0;34m.\u001b[0m\u001b[0mscores\u001b[0m\u001b[0;34m\u001b[0m\u001b[0;34m\u001b[0m\u001b[0m\n\u001b[0m\u001b[1;32m     13\u001b[0m \u001b[0;34m\u001b[0m\u001b[0m\n\u001b[1;32m     14\u001b[0m   \u001b[0;31m# Flesch score gives a higher score for more readable content\u001b[0m\u001b[0;34m\u001b[0m\u001b[0;34m\u001b[0m\u001b[0;34m\u001b[0m\u001b[0m\n",
            "\u001b[0;32m/usr/local/lib/python3.6/dist-packages/textatistic/textatistic.py\u001b[0m in \u001b[0;36m__init__\u001b[0;34m(self, text, abbr, hyphen, easy)\u001b[0m\n\u001b[1;32m     63\u001b[0m         }\n\u001b[1;32m     64\u001b[0m \u001b[0;34m\u001b[0m\u001b[0m\n\u001b[0;32m---> 65\u001b[0;31m         \u001b[0mself\u001b[0m\u001b[0;34m.\u001b[0m\u001b[0mflesch_score\u001b[0m \u001b[0;34m=\u001b[0m \u001b[0mflesch_score\u001b[0m\u001b[0;34m(\u001b[0m\u001b[0mvars\u001b[0m\u001b[0;34m=\u001b[0m\u001b[0mself\u001b[0m\u001b[0;34m.\u001b[0m\u001b[0mcounts\u001b[0m\u001b[0;34m)\u001b[0m\u001b[0;34m\u001b[0m\u001b[0;34m\u001b[0m\u001b[0m\n\u001b[0m\u001b[1;32m     66\u001b[0m         \u001b[0mself\u001b[0m\u001b[0;34m.\u001b[0m\u001b[0mfleschkincaid_score\u001b[0m \u001b[0;34m=\u001b[0m \u001b[0mfleschkincaid_score\u001b[0m\u001b[0;34m(\u001b[0m\u001b[0mvars\u001b[0m\u001b[0;34m=\u001b[0m\u001b[0mself\u001b[0m\u001b[0;34m.\u001b[0m\u001b[0mcounts\u001b[0m\u001b[0;34m)\u001b[0m\u001b[0;34m\u001b[0m\u001b[0;34m\u001b[0m\u001b[0m\n\u001b[1;32m     67\u001b[0m         \u001b[0mself\u001b[0m\u001b[0;34m.\u001b[0m\u001b[0mgunningfog_score\u001b[0m \u001b[0;34m=\u001b[0m \u001b[0mgunningfog_score\u001b[0m\u001b[0;34m(\u001b[0m\u001b[0mvars\u001b[0m\u001b[0;34m=\u001b[0m\u001b[0mself\u001b[0m\u001b[0;34m.\u001b[0m\u001b[0mcounts\u001b[0m\u001b[0;34m)\u001b[0m\u001b[0;34m\u001b[0m\u001b[0;34m\u001b[0m\u001b[0m\n",
            "\u001b[0;32m/usr/local/lib/python3.6/dist-packages/textatistic/textatistic.py\u001b[0m in \u001b[0;36mflesch_score\u001b[0;34m(text, abbr, hyphen, vars)\u001b[0m\n\u001b[1;32m    213\u001b[0m         \u001b[0mvars\u001b[0m\u001b[0;34m[\u001b[0m\u001b[0;34m'word_count'\u001b[0m\u001b[0;34m]\u001b[0m \u001b[0;34m=\u001b[0m \u001b[0mword_count\u001b[0m\u001b[0;34m(\u001b[0m\u001b[0mtext\u001b[0m\u001b[0;34m,\u001b[0m \u001b[0mabbr\u001b[0m\u001b[0;34m,\u001b[0m \u001b[0;32mTrue\u001b[0m\u001b[0;34m)\u001b[0m\u001b[0;34m\u001b[0m\u001b[0;34m\u001b[0m\u001b[0m\n\u001b[1;32m    214\u001b[0m         \u001b[0mvars\u001b[0m\u001b[0;34m[\u001b[0m\u001b[0;34m'sybl_count'\u001b[0m\u001b[0;34m]\u001b[0m \u001b[0;34m=\u001b[0m \u001b[0msybl_counts\u001b[0m\u001b[0;34m(\u001b[0m\u001b[0mtext\u001b[0m\u001b[0;34m,\u001b[0m \u001b[0mabbr\u001b[0m\u001b[0;34m,\u001b[0m \u001b[0mhyphen\u001b[0m\u001b[0;34m,\u001b[0m \u001b[0;32mTrue\u001b[0m\u001b[0;34m)\u001b[0m\u001b[0;34m[\u001b[0m\u001b[0;34m'sybl_count'\u001b[0m\u001b[0;34m]\u001b[0m\u001b[0;34m\u001b[0m\u001b[0;34m\u001b[0m\u001b[0m\n\u001b[0;32m--> 215\u001b[0;31m     \u001b[0;32mreturn\u001b[0m \u001b[0;36m206.835\u001b[0m \u001b[0;34m-\u001b[0m \u001b[0;36m1.015\u001b[0m \u001b[0;34m*\u001b[0m \u001b[0;34m(\u001b[0m\u001b[0mvars\u001b[0m\u001b[0;34m[\u001b[0m\u001b[0;34m'word_count'\u001b[0m\u001b[0;34m]\u001b[0m \u001b[0;34m/\u001b[0m \u001b[0mvars\u001b[0m\u001b[0;34m[\u001b[0m\u001b[0;34m'sent_count'\u001b[0m\u001b[0;34m]\u001b[0m\u001b[0;34m)\u001b[0m \u001b[0;34m-\u001b[0m \u001b[0;36m84.6\u001b[0m \u001b[0;34m*\u001b[0m \u001b[0;34m(\u001b[0m\u001b[0mvars\u001b[0m\u001b[0;34m[\u001b[0m\u001b[0;34m'sybl_count'\u001b[0m\u001b[0;34m]\u001b[0m \u001b[0;34m/\u001b[0m \u001b[0mvars\u001b[0m\u001b[0;34m[\u001b[0m\u001b[0;34m'word_count'\u001b[0m\u001b[0;34m]\u001b[0m\u001b[0;34m)\u001b[0m\u001b[0;34m\u001b[0m\u001b[0;34m\u001b[0m\u001b[0m\n\u001b[0m\u001b[1;32m    216\u001b[0m \u001b[0;34m\u001b[0m\u001b[0m\n\u001b[1;32m    217\u001b[0m \u001b[0;34m\u001b[0m\u001b[0m\n",
            "\u001b[0;31mZeroDivisionError\u001b[0m: division by zero"
          ]
        }
      ]
    },
    {
      "cell_type": "markdown",
      "metadata": {
        "id": "oo4DbLlYqGh4",
        "colab_type": "text"
      },
      "source": [
        "Looks like there is an issue with the Textatistic module in extracting the Flesch score where there is a divide by zero! It looks like the sentence count is reading zero for one of these reviews... We will have to revisit this..."
      ]
    },
    {
      "cell_type": "markdown",
      "metadata": {
        "id": "EwfHdNxhSLG6",
        "colab_type": "text"
      },
      "source": [
        "### Labels:\n",
        "We want to know what makes a Yelp review funny, so we need to define what constitutes a funny review. So let's label what we decide is funny\n",
        "\n"
      ]
    },
    {
      "cell_type": "code",
      "metadata": {
        "id": "F5554PJMSLG8",
        "colab_type": "code",
        "colab": {}
      },
      "source": [
        "# Since the majority of the reviews are not funny, \n",
        "# we will initialize the labels as not-funny (0)\n",
        "y = np.zeros_like(funny)\n",
        "\n",
        "# The funny reviews should have a least 1 funny upvote\n",
        "y[funny>5] = 1\n",
        "\n",
        "# y.sum()/y.shape"
      ],
      "execution_count": 0,
      "outputs": []
    },
    {
      "cell_type": "markdown",
      "metadata": {
        "id": "RbF-PvAOXYDj",
        "colab_type": "text"
      },
      "source": [
        "First, let's look at how the review frequency distribution of 'funny' upvotes of the first 1000 entries: "
      ]
    },
    {
      "cell_type": "code",
      "metadata": {
        "id": "gnKQ1PBjhWcn",
        "colab_type": "code",
        "outputId": "f7e4c4c2-812e-42aa-e3d2-fd0b5a96a7de",
        "colab": {
          "base_uri": "https://localhost:8080/",
          "height": 320
        }
      },
      "source": [
        "plt.hist(funny[:1000])"
      ],
      "execution_count": 9,
      "outputs": [
        {
          "output_type": "execute_result",
          "data": {
            "text/plain": [
              "(array([938.,  39.,  13.,   6.,   1.,   1.,   0.,   0.,   1.,   1.]),\n",
              " array([ 1. ,  5.1,  9.2, 13.3, 17.4, 21.5, 25.6, 29.7, 33.8, 37.9, 42. ]),\n",
              " <a list of 10 Patch objects>)"
            ]
          },
          "metadata": {
            "tags": []
          },
          "execution_count": 9
        },
        {
          "output_type": "display_data",
          "data": {
            "image/png": "[encoded data removed]",
            "text/plain": [
              "<Figure size 432x288 with 1 Axes>"
            ]
          },
          "metadata": {
            "tags": []
          }
        }
      ]
    },
    {
      "cell_type": "code",
      "metadata": {
        "id": "gt9t1wUT2ftQ",
        "colab_type": "code",
        "colab": {
          "base_uri": "https://localhost:8080/",
          "height": 300
        },
        "outputId": "55cbac1c-44a6-439b-f4ff-ce58b7c63846"
      },
      "source": [
        "word_counts = np.count_nonzero(x, axis=1)\n",
        "df = pd.DataFrame({'useful':useful, 'wc':word_counts, 'stars':stars, 'funny':funny, 'cool':cool})\n",
        "means = df.groupby('wc').mean()\n",
        "\n",
        "funnies = means['funny']\n",
        "funnies.plot()"
      ],
      "execution_count": 13,
      "outputs": [
        {
          "output_type": "execute_result",
          "data": {
            "text/plain": [
              "<matplotlib.axes._subplots.AxesSubplot at 0x7f6cc6d88588>"
            ]
          },
          "metadata": {
            "tags": []
          },
          "execution_count": 13
        },
        {
          "output_type": "display_data",
          "data": {
            "image/png": "[encoded data removed]",
            "text/plain": [
              "<Figure size 432x288 with 1 Axes>"
            ]
          },
          "metadata": {
            "tags": []
          }
        }
      ]
    },
    {
      "cell_type": "markdown",
      "metadata": {
        "id": "wHu_gQrnSLG7",
        "colab_type": "text"
      },
      "source": [
        "Since there are so many reviews without the 'funny' attribute, a good first step might be labeling reviews with at least 1 'funny' attribute as funny."
      ]
    },
    {
      "cell_type": "markdown",
      "metadata": {
        "id": "_5Bj5UZ8guOd",
        "colab_type": "text"
      },
      "source": [
        "Let's define a few quick methods to read out an entry that we're interested in:"
      ]
    },
    {
      "cell_type": "code",
      "metadata": {
        "id": "dZ-knpg7SLGz",
        "colab_type": "code",
        "colab": {}
      },
      "source": [
        "def print_entry(ientry):\n",
        "    print()\n",
        "    print('\\tReview number:','{:,}'.format(ientry))\n",
        "    print('\\tStars:', stars[ientry])\n",
        "    print('\\tFunny votes:', funny[ientry])\n",
        "    print('\\tUseful votes:', useful[ientry])\n",
        "    print('\\tCool votes:', cool[ientry])\n",
        "    print('\\t\\t',decode_review(get_entry_review(ientry)))\n",
        "    print()\n",
        "          \n",
        "def get_entry_review(ientry):\n",
        "    return x[ientry]\n"
      ],
      "execution_count": 0,
      "outputs": []
    },
    {
      "cell_type": "markdown",
      "metadata": {
        "id": "TI9_Cs9Y4-j8",
        "colab_type": "text"
      },
      "source": [
        "# Applying Machine Learning\n"
      ]
    },
    {
      "cell_type": "markdown",
      "metadata": {
        "id": "w_zStEdUSLHI",
        "colab_type": "text"
      },
      "source": [
        "## Convolutional Network\n",
        "\n",
        "In natural language processing, we deal with a sentences, where it's not just a collection of independent words concatenated together. Rather, collection of words/subsets of the sentence bring out the semantics. \n",
        "\n",
        "The best way to visualize what a convultional network does is to consider a kernel size of 3. This is a window of 3 words long, where the idea is to extract the context from the sentence. Here is an illustrative example of what the convolutional layer sees when going through the review. The kernel or window moves by one word, and the kernel can be see as the boldface below: \n",
        "\n",
        "* **this movie is** really not good\n",
        "* this **movie is really** not good\n",
        "* this movie **is really not** good\n",
        "* this movie is **really not good** \n",
        "\n",
        "Possibly the most \"meaningful\" sequence of words for a review would be **really not good** since it carries a lot of information. It will be easy for the network to understand the meaning of **not good** due to the convolution nature.\n",
        "\n",
        "* a kernel size of 3,\n",
        "* 64 filters. This means that 64 features (values) will be extracted from each position of the kernel,\n",
        "* a ReLU activation. \n"
      ]
    },
    {
      "cell_type": "markdown",
      "metadata": {
        "id": "dXAdjFr6SLHC",
        "colab_type": "text"
      },
      "source": [
        "Splitting the dataset into a training and testing set can be done much nicer and random way but we can just do this manually to keep track of everything to reproduce results "
      ]
    },
    {
      "cell_type": "code",
      "metadata": {
        "id": "_NjCROcZr50t",
        "colab_type": "code",
        "outputId": "38d1f2e3-4923-4bac-be1d-d14b9f5bae4b",
        "colab": {
          "base_uri": "https://localhost:8080/",
          "height": 34
        }
      },
      "source": [
        "type(10**3)\n",
        "type(10**3 * 10**3)"
      ],
      "execution_count": 0,
      "outputs": [
        {
          "output_type": "execute_result",
          "data": {
            "text/plain": [
              "int"
            ]
          },
          "metadata": {
            "tags": []
          },
          "execution_count": 82
        }
      ]
    },
    {
      "cell_type": "code",
      "metadata": {
        "id": "0D0Eo6t4yv9r",
        "colab_type": "code",
        "colab": {}
      },
      "source": [
        "k = 10**3\n",
        "M = k * k"
      ],
      "execution_count": 0,
      "outputs": []
    },
    {
      "cell_type": "code",
      "metadata": {
        "id": "DVr_LN90SLHJ",
        "colab_type": "code",
        "outputId": "0993702a-45de-46e1-ad6e-9ab57e2d3f30",
        "colab": {
          "base_uri": "https://localhost:8080/",
          "height": 513
        }
      },
      "source": [
        "k = 10**3\n",
        "M = k * k\n",
        "from sklearn.model_selection import train_test_split\n",
        "x_train, x_test, y_train, y_test = train_test_split(x[:1020*k], y[:1020*k], \n",
        "                                                    test_size=20*k)\n",
        "model = keras.Sequential()\n",
        "model.add(keras.layers.Embedding(len(vocab.words), 64, input_length=250))\n",
        "model.add(keras.layers.Conv1D(filters=64, kernel_size=3, activation='relu'))\n",
        "model.add(keras.layers.Flatten())\n",
        "model.add(keras.layers.Dropout(rate=0.4))\n",
        "model.add(keras.layers.Dense(50, activation='relu'))\n",
        "model.add(keras.layers.Dense(1, activation='sigmoid'))\n",
        "model.summary()\n",
        "\n",
        "model.compile(optimizer='adam',\n",
        "              loss='binary_crossentropy',\n",
        "              metrics=['accuracy'])\n",
        "\n",
        "history_conv = model.fit(x_train, y_train,\n",
        "                         epochs=4,\n",
        "                         batch_size=1000,\n",
        "                         validation_data=(x_test, y_test),\n",
        "                         verbose=1)\n"
      ],
      "execution_count": 0,
      "outputs": [
        {
          "output_type": "stream",
          "text": [
            "_________________________________________________________________\n",
            "Layer (type)                 Output Shape              Param #   \n",
            "=================================================================\n",
            "embedding_4 (Embedding)      (None, 250, 64)           1280128   \n",
            "_________________________________________________________________\n",
            "conv1d_6 (Conv1D)            (None, 248, 64)           12352     \n",
            "_________________________________________________________________\n",
            "flatten_4 (Flatten)          (None, 15872)             0         \n",
            "_________________________________________________________________\n",
            "dropout_4 (Dropout)          (None, 15872)             0         \n",
            "_________________________________________________________________\n",
            "dense_7 (Dense)              (None, 50)                793650    \n",
            "_________________________________________________________________\n",
            "dense_8 (Dense)              (None, 1)                 51        \n",
            "=================================================================\n",
            "Total params: 2,086,181\n",
            "Trainable params: 2,086,181\n",
            "Non-trainable params: 0\n",
            "_________________________________________________________________\n",
            "Train on 1000000 samples, validate on 20000 samples\n",
            "Epoch 1/4\n",
            "1000000/1000000 [==============================] - 27s 27us/step - loss: 0.2259 - acc: 0.9292 - val_loss: 0.2166 - val_acc: 0.9310\n",
            "Epoch 2/4\n",
            "1000000/1000000 [==============================] - 26s 26us/step - loss: 0.2097 - acc: 0.9313 - val_loss: 0.2199 - val_acc: 0.9303\n",
            "Epoch 3/4\n",
            "1000000/1000000 [==============================] - 25s 25us/step - loss: 0.1894 - acc: 0.9353 - val_loss: 0.2325 - val_acc: 0.9294\n",
            "Epoch 4/4\n",
            "1000000/1000000 [==============================] - 26s 26us/step - loss: 0.1613 - acc: 0.9435 - val_loss: 0.2595 - val_acc: 0.9255\n"
          ],
          "name": "stdout"
        }
      ]
    },
    {
      "cell_type": "code",
      "metadata": {
        "id": "lXIJT5QDupax",
        "colab_type": "code",
        "outputId": "b7fb37fe-3266-4148-e829-cbb1d729433a",
        "colab": {
          "base_uri": "https://localhost:8080/",
          "height": 34
        }
      },
      "source": [
        "help(history_conv.history)\n",
        "history_conv.history.keys()"
      ],
      "execution_count": 0,
      "outputs": [
        {
          "output_type": "execute_result",
          "data": {
            "text/plain": [
              "dict_keys(['val_loss', 'val_acc', 'loss', 'acc'])"
            ]
          },
          "metadata": {
            "tags": []
          },
          "execution_count": 80
        }
      ]
    },
    {
      "cell_type": "code",
      "metadata": {
        "id": "0JXQOeIqSLHZ",
        "colab_type": "code",
        "outputId": "9c94d35e-d5cc-4ebe-99c1-130155c33770",
        "colab": {
          "base_uri": "https://localhost:8080/",
          "height": 319
        }
      },
      "source": [
        "import matplotlib.pyplot as plt\n",
        "def plot_accuracy(history, title, miny=None):\n",
        "    '''Plot the training and validation accuracy'''\n",
        "    acc = history.history['acc']\n",
        "    test_acc = history.history['val_acc']\n",
        "    epochs = range(len(acc))\n",
        "    plt.plot(epochs, acc)\n",
        "    plt.plot(epochs, test_acc)\n",
        "    if miny:\n",
        "        plt.ylim(miny, 1.0)\n",
        "    plt.title(title) \n",
        "    plt.xlabel('epoch')\n",
        "    plt.ylabel('accuracy')\n",
        "    plt.legend( ['Training Set', 'Testing Set'] )\n",
        "    plt.figure()\n",
        "    \n",
        "plot_accuracy(history_conv, 'Convolutional Network')"
      ],
      "execution_count": 0,
      "outputs": [
        {
          "output_type": "display_data",
          "data": {
            "image/png": "[encoded data removed]",
            "text/plain": [
              "<Figure size 432x288 with 1 Axes>"
            ]
          },
          "metadata": {
            "tags": []
          }
        },
        {
          "output_type": "display_data",
          "data": {
            "text/plain": [
              "<Figure size 432x288 with 0 Axes>"
            ]
          },
          "metadata": {
            "tags": []
          }
        }
      ]
    },
    {
      "cell_type": "markdown",
      "metadata": {
        "id": "IKVgtSANSLHm",
        "colab_type": "text"
      },
      "source": [
        "**Yikes**! That's quite a bit of overfitting. Let's see how we can fix that..."
      ]
    },
    {
      "cell_type": "code",
      "metadata": {
        "id": "nuTaUerQt7LA",
        "colab_type": "code",
        "outputId": "3cf7bbef-fd46-4c8f-b046-009b384e514c",
        "colab": {
          "base_uri": "https://localhost:8080/",
          "height": 302
        }
      },
      "source": [
        "from sklearn import metrics\n",
        "y_pred_prob = model.predict(x_test)\n",
        "fpr, tpr, thresholds = metrics.roc_curve(y_test, y_pred_prob)\n",
        "\n",
        "plt.plot(fpr, tpr)\n",
        "plt.xlim([0.0, 1.0])\n",
        "plt.ylim([0.0, 1.0])\n",
        "plt.rcParams['font.size'] = 12\n",
        "plt.title('ROC curve for funny classifier')\n",
        "plt.xlabel('False Positive Rate (1 - Specificity)')\n",
        "plt.ylabel('True Positive Rate (Sensitivity)')\n",
        "plt.grid(True)"
      ],
      "execution_count": 0,
      "outputs": [
        {
          "output_type": "display_data",
          "data": {
            "image/png": "[encoded data removed]",
            "text/plain": [
              "<Figure size 432x288 with 1 Axes>"
            ]
          },
          "metadata": {
            "tags": []
          }
        }
      ]
    }
  ]
}